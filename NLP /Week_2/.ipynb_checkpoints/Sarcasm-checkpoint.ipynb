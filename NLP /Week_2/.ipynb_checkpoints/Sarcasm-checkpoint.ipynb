{
 "cells": [
  {
   "cell_type": "code",
   "execution_count": 12,
   "metadata": {},
   "outputs": [],
   "source": [
    "import tensorflow as tf\n",
    "import json\n",
    "import numpy as np\n",
    "\n",
    "from tensorflow.keras.preprocessing.text import Tokenizer\n",
    "from tensorflow.keras.preprocessing.sequence import pad_sequences"
   ]
  },
  {
   "cell_type": "code",
   "execution_count": 2,
   "metadata": {},
   "outputs": [],
   "source": [
    "oov_token = \"<OOV>\""
   ]
  },
  {
   "cell_type": "code",
   "execution_count": 4,
   "metadata": {},
   "outputs": [],
   "source": [
    "with open(\"sarcasm.json\", \"r\") as f:\n",
    "    dataset = json.load(f)"
   ]
  },
  {
   "cell_type": "code",
   "execution_count": 6,
   "metadata": {},
   "outputs": [],
   "source": [
    "sentences = []\n",
    "labels = []\n",
    "\n",
    "for items in dataset:\n",
    "    sentences.append(items['headline'])\n",
    "    labels.append(items['is_sarcastic'])"
   ]
  },
  {
   "cell_type": "code",
   "execution_count": 7,
   "metadata": {},
   "outputs": [],
   "source": [
    "training_sentences = sentences[0:20000]\n",
    "testing_sentences = sentences[20000:]\n",
    "\n",
    "training_labels = labels[0:20000]\n",
    "testing_labels = labels[20000:]"
   ]
  },
  {
   "cell_type": "code",
   "execution_count": 11,
   "metadata": {},
   "outputs": [],
   "source": [
    "tokenizer = Tokenizer(oov_token = oov_token)\n",
    "tokenizer.fit_on_texts(training_sentences)\n",
    "\n",
    "word_index = tokenizer.word_index\n",
    "\n",
    "training_sequences = tokenizer.texts_to_sequences(training_sentences)\n",
    "training_padded = pad_sequences(training_sequences)\n",
    "\n",
    "testing_sequences = tokenizer.texts_to_sequences(testing_sentences)\n",
    "testing_padded = pad_sequences(testing_sequences)"
   ]
  },
  {
   "cell_type": "code",
   "execution_count": 17,
   "metadata": {},
   "outputs": [
    {
     "data": {
      "text/plain": [
       "(6709, 38)"
      ]
     },
     "execution_count": 17,
     "metadata": {},
     "output_type": "execute_result"
    }
   ],
   "source": [
    "vocab_size = len(word_index)\n",
    "embedding_dim = 16\n",
    "testing_padded.shape"
   ]
  },
  {
   "cell_type": "code",
   "execution_count": 13,
   "metadata": {},
   "outputs": [],
   "source": [
    "training_padded = np.array(training_padded)\n",
    "training_labels = np.array(training_labels)\n",
    "\n",
    "testing_padded = np.array(testing_padded)\n",
    "testing_labels = np.array(testing_labels)"
   ]
  },
  {
   "cell_type": "code",
   "execution_count": 25,
   "metadata": {},
   "outputs": [],
   "source": [
    "model = tf.keras.Sequential([\n",
    "    tf.keras.layers.Embedding(vocab_size+1, embedding_dim, input_length = 38),\n",
    "    tf.keras.layers.GlobalAveragePooling1D(),\n",
    "    tf.keras.layers.Dense(24, activation = 'relu'),\n",
    "    tf.keras.layers.Dense(1, activation = 'sigmoid')\n",
    "])\n",
    "\n",
    "model.compile(loss = 'binary_crossentropy', optimizer = 'adam', metrics = ['accuracy'])"
   ]
  },
  {
   "cell_type": "code",
   "execution_count": 26,
   "metadata": {},
   "outputs": [
    {
     "name": "stdout",
     "output_type": "stream",
     "text": [
      "Model: \"sequential_2\"\n",
      "_________________________________________________________________\n",
      "Layer (type)                 Output Shape              Param #   \n",
      "=================================================================\n",
      "embedding_2 (Embedding)      (None, 38, 16)            410208    \n",
      "_________________________________________________________________\n",
      "global_average_pooling1d_2 ( (None, 16)                0         \n",
      "_________________________________________________________________\n",
      "dense_4 (Dense)              (None, 24)                408       \n",
      "_________________________________________________________________\n",
      "dense_5 (Dense)              (None, 1)                 25        \n",
      "=================================================================\n",
      "Total params: 410,641\n",
      "Trainable params: 410,641\n",
      "Non-trainable params: 0\n",
      "_________________________________________________________________\n"
     ]
    }
   ],
   "source": [
    "model.summary()"
   ]
  },
  {
   "cell_type": "code",
   "execution_count": 27,
   "metadata": {},
   "outputs": [
    {
     "name": "stdout",
     "output_type": "stream",
     "text": [
      "Epoch 1/30\n",
      "WARNING:tensorflow:Model was constructed with shape (None, 38) for input Tensor(\"embedding_2_input:0\", shape=(None, 38), dtype=float32), but it was called on an input with incompatible shape (32, 40).\n",
      "WARNING:tensorflow:Model was constructed with shape (None, 38) for input Tensor(\"embedding_2_input:0\", shape=(None, 38), dtype=float32), but it was called on an input with incompatible shape (32, 40).\n",
      "625/625 [==============================] - 2s 3ms/step - loss: 0.5881 - accuracy: 0.6805 - val_loss: 0.4088 - val_accuracy: 0.8289\n",
      "Epoch 2/30\n",
      "625/625 [==============================] - 1s 2ms/step - loss: 0.3114 - accuracy: 0.8778 - val_loss: 0.3421 - val_accuracy: 0.8554\n",
      "Epoch 3/30\n",
      "625/625 [==============================] - 2s 3ms/step - loss: 0.2124 - accuracy: 0.9204 - val_loss: 0.3376 - val_accuracy: 0.8599\n",
      "Epoch 4/30\n",
      "625/625 [==============================] - 1s 2ms/step - loss: 0.1499 - accuracy: 0.9477 - val_loss: 0.3634 - val_accuracy: 0.8536\n",
      "Epoch 5/30\n",
      "625/625 [==============================] - 2s 2ms/step - loss: 0.1059 - accuracy: 0.9666 - val_loss: 0.3877 - val_accuracy: 0.8560\n",
      "Epoch 6/30\n",
      "625/625 [==============================] - 1s 2ms/step - loss: 0.0754 - accuracy: 0.9780 - val_loss: 0.4288 - val_accuracy: 0.8506\n",
      "Epoch 7/30\n",
      "625/625 [==============================] - 2s 2ms/step - loss: 0.0534 - accuracy: 0.9852 - val_loss: 0.4761 - val_accuracy: 0.8436\n",
      "Epoch 8/30\n",
      "625/625 [==============================] - 1s 2ms/step - loss: 0.0366 - accuracy: 0.9909 - val_loss: 0.5249 - val_accuracy: 0.8423\n",
      "Epoch 9/30\n",
      "625/625 [==============================] - 2s 2ms/step - loss: 0.0260 - accuracy: 0.9945 - val_loss: 0.5892 - val_accuracy: 0.8369\n",
      "Epoch 10/30\n",
      "625/625 [==============================] - 2s 2ms/step - loss: 0.0178 - accuracy: 0.9970 - val_loss: 0.6435 - val_accuracy: 0.8354\n",
      "Epoch 11/30\n",
      "625/625 [==============================] - 2s 2ms/step - loss: 0.0120 - accuracy: 0.9981 - val_loss: 0.7218 - val_accuracy: 0.8314\n",
      "Epoch 12/30\n",
      "625/625 [==============================] - 1s 2ms/step - loss: 0.0080 - accuracy: 0.9985 - val_loss: 0.7786 - val_accuracy: 0.8299\n",
      "Epoch 13/30\n",
      "625/625 [==============================] - 1s 2ms/step - loss: 0.0053 - accuracy: 0.9992 - val_loss: 0.8273 - val_accuracy: 0.8262\n",
      "Epoch 14/30\n",
      "625/625 [==============================] - 1s 2ms/step - loss: 0.0035 - accuracy: 0.9995 - val_loss: 0.9045 - val_accuracy: 0.8256\n",
      "Epoch 15/30\n",
      "625/625 [==============================] - 1s 2ms/step - loss: 0.0025 - accuracy: 0.9998 - val_loss: 0.9601 - val_accuracy: 0.8246\n",
      "Epoch 16/30\n",
      "625/625 [==============================] - 2s 3ms/step - loss: 0.0017 - accuracy: 0.9999 - val_loss: 1.0160 - val_accuracy: 0.8240\n",
      "Epoch 17/30\n",
      "625/625 [==============================] - 1s 2ms/step - loss: 9.6979e-04 - accuracy: 0.9999 - val_loss: 1.0714 - val_accuracy: 0.8262\n",
      "Epoch 18/30\n",
      "625/625 [==============================] - 1s 2ms/step - loss: 6.6305e-04 - accuracy: 1.0000 - val_loss: 1.1228 - val_accuracy: 0.8244\n",
      "Epoch 19/30\n",
      "625/625 [==============================] - 2s 2ms/step - loss: 4.1707e-04 - accuracy: 1.0000 - val_loss: 1.1830 - val_accuracy: 0.8225\n",
      "Epoch 20/30\n",
      "625/625 [==============================] - 1s 2ms/step - loss: 3.1057e-04 - accuracy: 1.0000 - val_loss: 1.2325 - val_accuracy: 0.8213\n",
      "Epoch 21/30\n",
      "625/625 [==============================] - 2s 2ms/step - loss: 2.1590e-04 - accuracy: 1.0000 - val_loss: 1.2977 - val_accuracy: 0.8196\n",
      "Epoch 22/30\n",
      "625/625 [==============================] - 1s 2ms/step - loss: 1.3577e-04 - accuracy: 1.0000 - val_loss: 1.3440 - val_accuracy: 0.8202\n",
      "Epoch 23/30\n",
      "625/625 [==============================] - 2s 3ms/step - loss: 8.8822e-05 - accuracy: 1.0000 - val_loss: 1.3960 - val_accuracy: 0.8190\n",
      "Epoch 24/30\n",
      "625/625 [==============================] - 2s 3ms/step - loss: 8.9733e-05 - accuracy: 1.0000 - val_loss: 1.4752 - val_accuracy: 0.8167\n",
      "Epoch 25/30\n",
      "625/625 [==============================] - 2s 3ms/step - loss: 7.0171e-05 - accuracy: 1.0000 - val_loss: 1.5300 - val_accuracy: 0.8176\n",
      "Epoch 26/30\n",
      "625/625 [==============================] - 2s 2ms/step - loss: 3.9259e-05 - accuracy: 1.0000 - val_loss: 1.5706 - val_accuracy: 0.8173\n",
      "Epoch 27/30\n",
      "625/625 [==============================] - 2s 3ms/step - loss: 2.3481e-05 - accuracy: 1.0000 - val_loss: 1.6164 - val_accuracy: 0.8167\n",
      "Epoch 28/30\n",
      "625/625 [==============================] - 1s 2ms/step - loss: 1.5149e-05 - accuracy: 1.0000 - val_loss: 1.6560 - val_accuracy: 0.8174\n",
      "Epoch 29/30\n",
      "625/625 [==============================] - 1s 2ms/step - loss: 1.1249e-05 - accuracy: 1.0000 - val_loss: 1.7016 - val_accuracy: 0.8170\n",
      "Epoch 30/30\n",
      "625/625 [==============================] - 1s 2ms/step - loss: 7.7707e-06 - accuracy: 1.0000 - val_loss: 1.7480 - val_accuracy: 0.8167\n"
     ]
    }
   ],
   "source": [
    "history = model.fit(training_padded, training_labels, epochs = 30,\n",
    "                   validation_data=(testing_padded, testing_labels))"
   ]
  },
  {
   "cell_type": "code",
   "execution_count": 28,
   "metadata": {},
   "outputs": [
    {
     "data": {
      "image/png": "[encoded data removed]",
      "text/plain": [
       "<Figure size 432x288 with 1 Axes>"
      ]
     },
     "metadata": {
      "needs_background": "light"
     },
     "output_type": "display_data"
    },
    {
     "data": {
      "image/png": "[encoded data removed]",
      "text/plain": [
       "<Figure size 432x288 with 1 Axes>"
      ]
     },
     "metadata": {
      "needs_background": "light"
     },
     "output_type": "display_data"
    }
   ],
   "source": [
    "import matplotlib.pyplot as plt\n",
    "\n",
    "\n",
    "def plot_graphs(history, string):\n",
    "    plt.plot(history.history[string])\n",
    "    plt.plot(history.history['val_'+string])\n",
    "    plt.xlabel(\"Epochs\")\n",
    "    plt.ylabel(string)\n",
    "    plt.legend([string, 'val_'+string])\n",
    "    plt.show()\n",
    "  \n",
    "plot_graphs(history, \"accuracy\")\n",
    "plot_graphs(history, \"loss\")"
   ]
  },
  {
   "cell_type": "code",
   "execution_count": 29,
   "metadata": {},
   "outputs": [
    {
     "name": "stdout",
     "output_type": "stream",
     "text": [
      "? ? ? ? ? ? ? ? ? ? ? ? ? ? ? ? ? ? ? ? ? ? ? ? ? ? ? ? former versace store clerk sues over secret 'black code' for minority shoppers\n",
      "mom starting to fear son's web series closest thing she will have to grandchild\n",
      "1\n"
     ]
    }
   ],
   "source": [
    "reverse_word_index = dict([(value, key) for (key, value) in word_index.items()])\n",
    "\n",
    "def decode_sentence(text):\n",
    "    return ' '.join([reverse_word_index.get(i, '?') for i in text])\n",
    "\n",
    "print(decode_sentence(training_padded[0]))\n",
    "print(training_sentences[2])\n",
    "print(labels[2])"
   ]
  },
  {
   "cell_type": "code",
   "execution_count": 30,
   "metadata": {},
   "outputs": [
    {
     "name": "stdout",
     "output_type": "stream",
     "text": [
      "(25638, 16)\n"
     ]
    }
   ],
   "source": [
    "e = model.layers[0]\n",
    "weights = e.get_weights()[0]\n",
    "print(weights.shape) # shape: (vocab_size, embedding_dim)"
   ]
  },
  {
   "cell_type": "code",
   "execution_count": 31,
   "metadata": {},
   "outputs": [],
   "source": [
    "import io\n",
    "\n",
    "out_v = io.open('vecs.tsv', 'w', encoding='utf-8')\n",
    "out_m = io.open('meta.tsv', 'w', encoding='utf-8')\n",
    "for word_num in range(1, vocab_size):\n",
    "    word = reverse_word_index[word_num]\n",
    "    embeddings = weights[word_num]\n",
    "    out_m.write(word + \"\\n\")\n",
    "    out_v.write('\\t'.join([str(x) for x in embeddings]) + \"\\n\")\n",
    "out_v.close()\n",
    "out_m.close()"
   ]
  },
  {
   "cell_type": "code",
   "execution_count": 33,
   "metadata": {},
   "outputs": [
    {
     "name": "stdout",
     "output_type": "stream",
     "text": [
      "WARNING:tensorflow:Model was constructed with shape (None, 38) for input Tensor(\"embedding_2_input:0\", shape=(None, 38), dtype=float32), but it was called on an input with incompatible shape (None, 11).\n",
      "[[1.0000000e+00]\n",
      " [8.0281393e-07]]\n"
     ]
    }
   ],
   "source": [
    "sentence = [\"granny starting to fear spiders in the garden might be real\", \"game of thrones season finale showing this sunday night\"]\n",
    "sequences = tokenizer.texts_to_sequences(sentence)\n",
    "padded = pad_sequences(sequences)\n",
    "print(model.predict(padded))"
   ]
  },
  {
   "cell_type": "code",
   "execution_count": 34,
   "metadata": {},
   "outputs": [
    {
     "name": "stdout",
     "output_type": "stream",
     "text": [
      "WARNING:tensorflow:Model was constructed with shape (None, 38) for input Tensor(\"embedding_2_input:0\", shape=(None, 38), dtype=float32), but it was called on an input with incompatible shape (None, 8).\n",
      "[[1.3200791e-21]]\n"
     ]
    }
   ],
   "source": [
    "sentence = ['that was so funny. I cried a little']\n",
    "sequences = tokenizer.texts_to_sequences(sentence)\n",
    "padded = pad_sequences(sequences)\n",
    "print(model.predict(padded))"
   ]
  },
  {
   "cell_type": "code",
   "execution_count": null,
   "metadata": {},
   "outputs": [],
   "source": []
  }
 ],
 "metadata": {
  "kernelspec": {
   "display_name": "Python 3.7.5 64-bit",
   "language": "python",
   "name": "python37564bit12d6488235484e139ef7d1ecba7c0206"
  },
  "language_info": {
   "codemirror_mode": {
    "name": "ipython",
    "version": 3
   },
   "file_extension": ".py",
   "mimetype": "text/x-python",
   "name": "python",
   "nbconvert_exporter": "python",
   "pygments_lexer": "ipython3",
   "version": "3.7.5"
  }
 },
 "nbformat": 4,
 "nbformat_minor": 4
}
