{
 "cells": [
  {
   "cell_type": "code",
   "execution_count": 1,
   "metadata": {},
   "outputs": [
    {
     "name": "stdout",
     "output_type": "stream",
     "text": [
      "2.2.0\n"
     ]
    }
   ],
   "source": [
    "import tensorflow as tf\n",
    "import tensorflow_datasets as tfds\n",
    "print(tf.__version__)"
   ]
  },
  {
   "cell_type": "code",
   "execution_count": 3,
   "metadata": {},
   "outputs": [
    {
     "name": "stderr",
     "output_type": "stream",
     "text": [
      "WARNING:absl:TFDS datasets with text encoding are deprecated and will be removed in a future version. Instead, you should use the plain text version and tokenize the text using `tensorflow_text` (See: https://www.tensorflow.org/tutorials/tensorflow_text/intro#tfdata_example)\n"
     ]
    }
   ],
   "source": [
    "dataset, info = tfds.load(\"imdb_reviews/subwords8k\", with_info = True, as_supervised = True)"
   ]
  },
  {
   "cell_type": "code",
   "execution_count": 6,
   "metadata": {},
   "outputs": [],
   "source": [
    "train_dataset, test_dataset = dataset['train'], dataset['test']"
   ]
  },
  {
   "cell_type": "code",
   "execution_count": 7,
   "metadata": {},
   "outputs": [],
   "source": [
    "tokenizer = info.features['text'].encoder"
   ]
  },
  {
   "cell_type": "code",
   "execution_count": 9,
   "metadata": {},
   "outputs": [],
   "source": [
    "BUFFER_SIZE = 10000\n",
    "BATCH_SIZE = 64\n",
    "\n",
    "\n",
    "train_dataset = train_dataset.shuffle(BUFFER_SIZE)\n",
    "train_dataset = train_dataset.padded_batch(BATCH_SIZE, tf.compat.v1.data.get_output_shapes(train_dataset))\n",
    "test_dataset = test_dataset.padded_batch(BATCH_SIZE, tf.compat.v1.data.get_output_shapes(test_dataset))"
   ]
  },
  {
   "cell_type": "code",
   "execution_count": 10,
   "metadata": {},
   "outputs": [],
   "source": [
    "model = tf.keras.Sequential([\n",
    "    \n",
    "    tf.keras.layers.Embedding(tokenizer.vocab_size, 64),\n",
    "    tf.keras.layers.Bidirectional(tf.keras.layers.LSTM(64)),\n",
    "    tf.keras.layers.Dense(64, activation = 'relu'),\n",
    "    tf.keras.layers.Dense(1, activation = 'sigmoid')\n",
    "])"
   ]
  },
  {
   "cell_type": "code",
   "execution_count": 11,
   "metadata": {},
   "outputs": [
    {
     "name": "stdout",
     "output_type": "stream",
     "text": [
      "Model: \"sequential\"\n",
      "_________________________________________________________________\n",
      "Layer (type)                 Output Shape              Param #   \n",
      "=================================================================\n",
      "embedding (Embedding)        (None, None, 64)          523840    \n",
      "_________________________________________________________________\n",
      "bidirectional (Bidirectional (None, 128)               66048     \n",
      "_________________________________________________________________\n",
      "dense (Dense)                (None, 64)                8256      \n",
      "_________________________________________________________________\n",
      "dense_1 (Dense)              (None, 1)                 65        \n",
      "=================================================================\n",
      "Total params: 598,209\n",
      "Trainable params: 598,209\n",
      "Non-trainable params: 0\n",
      "_________________________________________________________________\n"
     ]
    }
   ],
   "source": [
    "model.summary()"
   ]
  },
  {
   "cell_type": "code",
   "execution_count": 12,
   "metadata": {},
   "outputs": [],
   "source": [
    "model.compile(loss = 'binary_crossentropy', optimizer = 'adam', metrics = ['accuracy'])"
   ]
  },
  {
   "cell_type": "code",
   "execution_count": 13,
   "metadata": {},
   "outputs": [
    {
     "name": "stdout",
     "output_type": "stream",
     "text": [
      "Epoch 1/10\n",
      "391/391 [==============================] - 515s 1s/step - loss: 0.5692 - accuracy: 0.6965 - val_loss: 0.4623 - val_accuracy: 0.7961\n",
      "Epoch 2/10\n",
      "391/391 [==============================] - 520s 1s/step - loss: 0.3724 - accuracy: 0.8434 - val_loss: 0.5152 - val_accuracy: 0.7833\n",
      "Epoch 3/10\n",
      "391/391 [==============================] - 3867s 10s/step - loss: 0.2728 - accuracy: 0.8935 - val_loss: 0.3968 - val_accuracy: 0.8227\n",
      "Epoch 4/10\n",
      "391/391 [==============================] - 453s 1s/step - loss: 0.2384 - accuracy: 0.9083 - val_loss: 0.5101 - val_accuracy: 0.7855\n",
      "Epoch 5/10\n",
      "391/391 [==============================] - 481s 1s/step - loss: 0.1872 - accuracy: 0.9296 - val_loss: 0.4312 - val_accuracy: 0.8326\n",
      "Epoch 6/10\n",
      "391/391 [==============================] - 485s 1s/step - loss: 0.1415 - accuracy: 0.9504 - val_loss: 0.5302 - val_accuracy: 0.8315\n",
      "Epoch 7/10\n",
      "391/391 [==============================] - 513s 1s/step - loss: 0.1222 - accuracy: 0.9572 - val_loss: 0.5916 - val_accuracy: 0.8118\n",
      "Epoch 8/10\n",
      "391/391 [==============================] - 526s 1s/step - loss: 0.1078 - accuracy: 0.9634 - val_loss: 0.6670 - val_accuracy: 0.8286\n",
      "Epoch 9/10\n",
      "391/391 [==============================] - 507s 1s/step - loss: 0.2055 - accuracy: 0.9203 - val_loss: 0.5707 - val_accuracy: 0.8108\n",
      "Epoch 10/10\n",
      "391/391 [==============================] - 524s 1s/step - loss: 0.1020 - accuracy: 0.9649 - val_loss: 0.7704 - val_accuracy: 0.7967\n"
     ]
    }
   ],
   "source": [
    "num_epochs = 10\n",
    "\n",
    "history = model.fit(train_dataset, epochs=num_epochs, validation_data=test_dataset)"
   ]
  },
  {
   "cell_type": "code",
   "execution_count": 14,
   "metadata": {},
   "outputs": [
    {
     "name": "stdout",
     "output_type": "stream",
     "text": [
      "import tensorflow as tf\n",
      "import tensorflow_datasets as tfds\n",
      "print(tf.__version__)\n",
      "dataset, info = tfds.load(\"imdb_reviews/subwords8k\", withh_info = True, as_supervised = True)\n",
      "dataset, info = tfds.load(\"imdb_reviews/subwords8k\", with_info = True, as_supervised = True)\n",
      "train_dataset, test_dataset = dataset['train'], dataset=['test']\n",
      "train_dataset, test_dataset = dataset['train'], dataset=['test']\n",
      "train_dataset, test_dataset = dataset['train'], dataset['test']\n",
      "tokenizer = info.features['text'].encoder\n",
      "print(tokenizer)\n",
      "BUFFER_SIZE = 10000\n",
      "BATCH_SIZE = 64\n",
      "\n",
      "\n",
      "train_dataset = train_dataset.shuffle(BUFFER_SIZE)\n",
      "train_dataset = train_dataset.padded_batch(BATCH_SIZE, tf.compat.v1.data.get_output_shapes(train_dataset))\n",
      "test_dataset = test_dataset.padded_batch(BATCH_SIZE, tf.compat.v1.data.get_output_shapes(test_dataset))\n",
      "model = tf.keras.Sequential([\n",
      "    \n",
      "    tf.keras.layers.Embedding(tokenizer.vocab_size, 64),\n",
      "    tf.keras.layers.Bidirectional(tf.keras.layers.LSTM(64)),\n",
      "    tf.keras.layers.Dense(64, activation = 'relu'),\n",
      "    tf.keras.layers.Dense(1, activation = 'sigmoid')\n",
      "])\n",
      "model.summary()\n",
      "model.compile(loss = 'binary_crossentropy', optimizer = 'adam', metrics = ['accuracy'])\n",
      "num_epochs = 10\n",
      "\n",
      "history = model.fit(train_dataset, epochs=num_epochs, validation_data=test_dataset)\n",
      "%history\n"
     ]
    }
   ],
   "source": [
    "%history"
   ]
  },
  {
   "cell_type": "code",
   "execution_count": null,
   "metadata": {},
   "outputs": [],
   "source": []
  }
 ],
 "metadata": {
  "kernelspec": {
   "display_name": "Python 3.7.5 64-bit",
   "language": "python",
   "name": "python37564bit47ed710654564d6e9666ea18624a44ba"
  },
  "language_info": {
   "codemirror_mode": {
    "name": "ipython",
    "version": 3
   },
   "file_extension": ".py",
   "mimetype": "text/x-python",
   "name": "python",
   "nbconvert_exporter": "python",
   "pygments_lexer": "ipython3",
   "version": "3.7.5"
  }
 },
 "nbformat": 4,
 "nbformat_minor": 4
}
