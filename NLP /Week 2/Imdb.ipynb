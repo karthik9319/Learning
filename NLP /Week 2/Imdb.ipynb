{
 "cells": [
  {
   "cell_type": "code",
   "execution_count": 35,
   "metadata": {},
   "outputs": [
    {
     "output_type": "stream",
     "name": "stdout",
     "text": "1.14.0\n"
    }
   ],
   "source": [
    "import tensorflow as tf\n",
    "print(tf.__version__)"
   ]
  },
  {
   "cell_type": "code",
   "execution_count": 19,
   "metadata": {},
   "outputs": [],
   "source": [
    "tf.enable_eager_execution()"
   ]
  },
  {
   "cell_type": "code",
   "execution_count": 26,
   "metadata": {},
   "outputs": [
    {
     "output_type": "stream",
     "name": "stdout",
     "text": "Requirement already up-to-date: tensorflow in /Users/karthik/anaconda3/lib/python3.7/site-packages (2.2.0)\nRequirement already satisfied, skipping upgrade: termcolor>=1.1.0 in /Users/karthik/anaconda3/lib/python3.7/site-packages (from tensorflow) (1.1.0)\nRequirement already satisfied, skipping upgrade: grpcio>=1.8.6 in /Users/karthik/anaconda3/lib/python3.7/site-packages (from tensorflow) (1.28.1)\nRequirement already satisfied, skipping upgrade: protobuf>=3.8.0 in /Users/karthik/anaconda3/lib/python3.7/site-packages (from tensorflow) (3.11.3)\nRequirement already satisfied, skipping upgrade: wrapt>=1.11.1 in /Users/karthik/anaconda3/lib/python3.7/site-packages (from tensorflow) (1.11.2)\nRequirement already satisfied, skipping upgrade: h5py<2.11.0,>=2.10.0 in /Users/karthik/anaconda3/lib/python3.7/site-packages (from tensorflow) (2.10.0)\nRequirement already satisfied, skipping upgrade: absl-py>=0.7.0 in /Users/karthik/anaconda3/lib/python3.7/site-packages (from tensorflow) (0.9.0)\nRequirement already satisfied, skipping upgrade: gast==0.3.3 in /Users/karthik/anaconda3/lib/python3.7/site-packages (from tensorflow) (0.3.3)\nRequirement already satisfied, skipping upgrade: numpy<2.0,>=1.16.0 in /Users/karthik/anaconda3/lib/python3.7/site-packages (from tensorflow) (1.18.1)\nRequirement already satisfied, skipping upgrade: wheel>=0.26; python_version >= \"3\" in /Users/karthik/anaconda3/lib/python3.7/site-packages (from tensorflow) (0.34.2)\nRequirement already satisfied, skipping upgrade: keras-preprocessing>=1.1.0 in /Users/karthik/anaconda3/lib/python3.7/site-packages (from tensorflow) (1.1.0)\nRequirement already satisfied, skipping upgrade: tensorboard<2.3.0,>=2.2.0 in /Users/karthik/anaconda3/lib/python3.7/site-packages (from tensorflow) (2.2.2)\nRequirement already satisfied, skipping upgrade: opt-einsum>=2.3.2 in /Users/karthik/anaconda3/lib/python3.7/site-packages (from tensorflow) (3.2.1)\nRequirement already satisfied, skipping upgrade: scipy==1.4.1; python_version >= \"3\" in /Users/karthik/anaconda3/lib/python3.7/site-packages (from tensorflow) (1.4.1)\nRequirement already satisfied, skipping upgrade: tensorflow-estimator<2.3.0,>=2.2.0 in /Users/karthik/anaconda3/lib/python3.7/site-packages (from tensorflow) (2.2.0)\nRequirement already satisfied, skipping upgrade: six>=1.12.0 in /Users/karthik/anaconda3/lib/python3.7/site-packages (from tensorflow) (1.14.0)\nRequirement already satisfied, skipping upgrade: astunparse==1.6.3 in /Users/karthik/anaconda3/lib/python3.7/site-packages (from tensorflow) (1.6.3)\nRequirement already satisfied, skipping upgrade: google-pasta>=0.1.8 in /Users/karthik/anaconda3/lib/python3.7/site-packages (from tensorflow) (0.2.0)\nRequirement already satisfied, skipping upgrade: setuptools in /Users/karthik/anaconda3/lib/python3.7/site-packages (from protobuf>=3.8.0->tensorflow) (45.2.0.post20200210)\nRequirement already satisfied, skipping upgrade: requests<3,>=2.21.0 in /Users/karthik/anaconda3/lib/python3.7/site-packages (from tensorboard<2.3.0,>=2.2.0->tensorflow) (2.23.0)\nRequirement already satisfied, skipping upgrade: markdown>=2.6.8 in /Users/karthik/anaconda3/lib/python3.7/site-packages (from tensorboard<2.3.0,>=2.2.0->tensorflow) (3.2.1)\nRequirement already satisfied, skipping upgrade: werkzeug>=0.11.15 in /Users/karthik/anaconda3/lib/python3.7/site-packages (from tensorboard<2.3.0,>=2.2.0->tensorflow) (1.0.0)\nRequirement already satisfied, skipping upgrade: google-auth-oauthlib<0.5,>=0.4.1 in /Users/karthik/anaconda3/lib/python3.7/site-packages (from tensorboard<2.3.0,>=2.2.0->tensorflow) (0.4.1)\nRequirement already satisfied, skipping upgrade: tensorboard-plugin-wit>=1.6.0 in /Users/karthik/anaconda3/lib/python3.7/site-packages (from tensorboard<2.3.0,>=2.2.0->tensorflow) (1.6.0.post3)\nRequirement already satisfied, skipping upgrade: google-auth<2,>=1.6.3 in /Users/karthik/anaconda3/lib/python3.7/site-packages (from tensorboard<2.3.0,>=2.2.0->tensorflow) (1.14.1)\nRequirement already satisfied, skipping upgrade: chardet<4,>=3.0.2 in /Users/karthik/anaconda3/lib/python3.7/site-packages (from requests<3,>=2.21.0->tensorboard<2.3.0,>=2.2.0->tensorflow) (3.0.4)\nRequirement already satisfied, skipping upgrade: urllib3!=1.25.0,!=1.25.1,<1.26,>=1.21.1 in /Users/karthik/anaconda3/lib/python3.7/site-packages (from requests<3,>=2.21.0->tensorboard<2.3.0,>=2.2.0->tensorflow) (1.25.8)\nRequirement already satisfied, skipping upgrade: idna<3,>=2.5 in /Users/karthik/anaconda3/lib/python3.7/site-packages (from requests<3,>=2.21.0->tensorboard<2.3.0,>=2.2.0->tensorflow) (2.8)\nRequirement already satisfied, skipping upgrade: certifi>=2017.4.17 in /Users/karthik/anaconda3/lib/python3.7/site-packages (from requests<3,>=2.21.0->tensorboard<2.3.0,>=2.2.0->tensorflow) (2019.11.28)\nRequirement already satisfied, skipping upgrade: requests-oauthlib>=0.7.0 in /Users/karthik/anaconda3/lib/python3.7/site-packages (from google-auth-oauthlib<0.5,>=0.4.1->tensorboard<2.3.0,>=2.2.0->tensorflow) (1.3.0)\nRequirement already satisfied, skipping upgrade: pyasn1-modules>=0.2.1 in /Users/karthik/anaconda3/lib/python3.7/site-packages (from google-auth<2,>=1.6.3->tensorboard<2.3.0,>=2.2.0->tensorflow) (0.2.8)\nRequirement already satisfied, skipping upgrade: rsa<4.1,>=3.1.4 in /Users/karthik/anaconda3/lib/python3.7/site-packages (from google-auth<2,>=1.6.3->tensorboard<2.3.0,>=2.2.0->tensorflow) (4.0)\nRequirement already satisfied, skipping upgrade: cachetools<5.0,>=2.0.0 in /Users/karthik/anaconda3/lib/python3.7/site-packages (from google-auth<2,>=1.6.3->tensorboard<2.3.0,>=2.2.0->tensorflow) (4.1.0)\nRequirement already satisfied, skipping upgrade: oauthlib>=3.0.0 in /Users/karthik/anaconda3/lib/python3.7/site-packages (from requests-oauthlib>=0.7.0->google-auth-oauthlib<0.5,>=0.4.1->tensorboard<2.3.0,>=2.2.0->tensorflow) (3.1.0)\nRequirement already satisfied, skipping upgrade: pyasn1<0.5.0,>=0.4.6 in /Users/karthik/anaconda3/lib/python3.7/site-packages (from pyasn1-modules>=0.2.1->google-auth<2,>=1.6.3->tensorboard<2.3.0,>=2.2.0->tensorflow) (0.4.8)\n"
    }
   ],
   "source": [
    "!pip install --upgrade tensorflow"
   ]
  },
  {
   "cell_type": "code",
   "execution_count": 32,
   "metadata": {},
   "outputs": [
    {
     "output_type": "error",
     "ename": "ModuleNotFoundError",
     "evalue": "No module named 'tensorflow.compat'",
     "traceback": [
      "\u001b[0;31m---------------------------------------------------------------------------\u001b[0m",
      "\u001b[0;31mModuleNotFoundError\u001b[0m                       Traceback (most recent call last)",
      "\u001b[0;32m<ipython-input-32-46a8a2031c9c>\u001b[0m in \u001b[0;36m<module>\u001b[0;34m\u001b[0m\n\u001b[0;32m----> 1\u001b[0;31m \u001b[0;32mimport\u001b[0m \u001b[0mtensorflow_datasets\u001b[0m \u001b[0;32mas\u001b[0m \u001b[0mtfds\u001b[0m\u001b[0;34m\u001b[0m\u001b[0;34m\u001b[0m\u001b[0m\n\u001b[0m",
      "\u001b[0;32m/usr/local/lib/python3.7/site-packages/tensorflow_datasets/__init__.py\u001b[0m in \u001b[0;36m<module>\u001b[0;34m\u001b[0m\n\u001b[1;32m     45\u001b[0m \u001b[0;31m# needs to happen before anything else, since the imports below will try to\u001b[0m\u001b[0;34m\u001b[0m\u001b[0;34m\u001b[0m\u001b[0;34m\u001b[0m\u001b[0m\n\u001b[1;32m     46\u001b[0m \u001b[0;31m# import tensorflow, too.\u001b[0m\u001b[0;34m\u001b[0m\u001b[0;34m\u001b[0m\u001b[0;34m\u001b[0m\u001b[0m\n\u001b[0;32m---> 47\u001b[0;31m \u001b[0;32mfrom\u001b[0m \u001b[0mtensorflow_datasets\u001b[0m\u001b[0;34m.\u001b[0m\u001b[0mcore\u001b[0m \u001b[0;32mimport\u001b[0m \u001b[0mtf_compat\u001b[0m\u001b[0;34m\u001b[0m\u001b[0;34m\u001b[0m\u001b[0m\n\u001b[0m\u001b[1;32m     48\u001b[0m \u001b[0mtf_compat\u001b[0m\u001b[0;34m.\u001b[0m\u001b[0mensure_tf_install\u001b[0m\u001b[0;34m(\u001b[0m\u001b[0;34m)\u001b[0m\u001b[0;34m\u001b[0m\u001b[0;34m\u001b[0m\u001b[0m\n\u001b[1;32m     49\u001b[0m \u001b[0;34m\u001b[0m\u001b[0m\n",
      "\u001b[0;32m/usr/local/lib/python3.7/site-packages/tensorflow_datasets/core/__init__.py\u001b[0m in \u001b[0;36m<module>\u001b[0;34m\u001b[0m\n\u001b[1;32m     26\u001b[0m \u001b[0;32mfrom\u001b[0m \u001b[0mtensorflow_datasets\u001b[0m\u001b[0;34m.\u001b[0m\u001b[0mcore\u001b[0m\u001b[0;34m.\u001b[0m\u001b[0mconstants\u001b[0m \u001b[0;32mimport\u001b[0m \u001b[0madd_data_dir\u001b[0m\u001b[0;34m\u001b[0m\u001b[0;34m\u001b[0m\u001b[0m\n\u001b[1;32m     27\u001b[0m \u001b[0;34m\u001b[0m\u001b[0m\n\u001b[0;32m---> 28\u001b[0;31m \u001b[0;32mfrom\u001b[0m \u001b[0mtensorflow_datasets\u001b[0m\u001b[0;34m.\u001b[0m\u001b[0mcore\u001b[0m\u001b[0;34m.\u001b[0m\u001b[0mdataset_builder\u001b[0m \u001b[0;32mimport\u001b[0m \u001b[0mBeamBasedBuilder\u001b[0m\u001b[0;34m\u001b[0m\u001b[0;34m\u001b[0m\u001b[0m\n\u001b[0m\u001b[1;32m     29\u001b[0m \u001b[0;32mfrom\u001b[0m \u001b[0mtensorflow_datasets\u001b[0m\u001b[0;34m.\u001b[0m\u001b[0mcore\u001b[0m\u001b[0;34m.\u001b[0m\u001b[0mdataset_builder\u001b[0m \u001b[0;32mimport\u001b[0m \u001b[0mBuilderConfig\u001b[0m\u001b[0;34m\u001b[0m\u001b[0;34m\u001b[0m\u001b[0m\n\u001b[1;32m     30\u001b[0m \u001b[0;32mfrom\u001b[0m \u001b[0mtensorflow_datasets\u001b[0m\u001b[0;34m.\u001b[0m\u001b[0mcore\u001b[0m\u001b[0;34m.\u001b[0m\u001b[0mdataset_builder\u001b[0m \u001b[0;32mimport\u001b[0m \u001b[0mDatasetBuilder\u001b[0m\u001b[0;34m\u001b[0m\u001b[0;34m\u001b[0m\u001b[0m\n",
      "\u001b[0;32m/usr/local/lib/python3.7/site-packages/tensorflow_datasets/core/dataset_builder.py\u001b[0m in \u001b[0;36m<module>\u001b[0;34m\u001b[0m\n\u001b[1;32m     30\u001b[0m \u001b[0;32mfrom\u001b[0m \u001b[0mabsl\u001b[0m \u001b[0;32mimport\u001b[0m \u001b[0mlogging\u001b[0m\u001b[0;34m\u001b[0m\u001b[0;34m\u001b[0m\u001b[0m\n\u001b[1;32m     31\u001b[0m \u001b[0;32mimport\u001b[0m \u001b[0msix\u001b[0m\u001b[0;34m\u001b[0m\u001b[0;34m\u001b[0m\u001b[0m\n\u001b[0;32m---> 32\u001b[0;31m \u001b[0;32mimport\u001b[0m \u001b[0mtensorflow\u001b[0m\u001b[0;34m.\u001b[0m\u001b[0mcompat\u001b[0m\u001b[0;34m.\u001b[0m\u001b[0mv2\u001b[0m \u001b[0;32mas\u001b[0m \u001b[0mtf\u001b[0m\u001b[0;34m\u001b[0m\u001b[0;34m\u001b[0m\u001b[0m\n\u001b[0m\u001b[1;32m     33\u001b[0m \u001b[0;34m\u001b[0m\u001b[0m\n\u001b[1;32m     34\u001b[0m \u001b[0;32mfrom\u001b[0m \u001b[0mtensorflow_datasets\u001b[0m\u001b[0;34m.\u001b[0m\u001b[0mcore\u001b[0m \u001b[0;32mimport\u001b[0m \u001b[0mapi_utils\u001b[0m\u001b[0;34m\u001b[0m\u001b[0;34m\u001b[0m\u001b[0m\n",
      "\u001b[0;31mModuleNotFoundError\u001b[0m: No module named 'tensorflow.compat'"
     ]
    }
   ],
   "source": [
    "import tensorflow_datasets as tfds"
   ]
  },
  {
   "cell_type": "code",
   "execution_count": 29,
   "metadata": {},
   "outputs": [
    {
     "output_type": "stream",
     "name": "stdout",
     "text": "Collecting tensorflow-probability\n  Downloading tensorflow_probability-0.10.0-py2.py3-none-any.whl (3.5 MB)\n\u001b[K     |████████████████████████████████| 3.5 MB 356 kB/s \n\u001b[?25hRequirement already satisfied, skipping upgrade: cloudpickle>=1.2.2 in /Users/karthik/anaconda3/lib/python3.7/site-packages (from tensorflow-probability) (1.3.0)\nRequirement already satisfied, skipping upgrade: six>=1.10.0 in /Users/karthik/anaconda3/lib/python3.7/site-packages (from tensorflow-probability) (1.14.0)\nRequirement already satisfied, skipping upgrade: decorator in /Users/karthik/anaconda3/lib/python3.7/site-packages (from tensorflow-probability) (4.4.1)\nRequirement already satisfied, skipping upgrade: gast>=0.3.2 in /Users/karthik/anaconda3/lib/python3.7/site-packages (from tensorflow-probability) (0.3.3)\nRequirement already satisfied, skipping upgrade: numpy>=1.13.3 in /Users/karthik/anaconda3/lib/python3.7/site-packages (from tensorflow-probability) (1.18.1)\nInstalling collected packages: tensorflow-probability\nSuccessfully installed tensorflow-probability-0.10.0\n"
    }
   ],
   "source": [
    "!pip install --user --upgrade tensorflow-probability"
   ]
  },
  {
   "cell_type": "code",
   "execution_count": 31,
   "metadata": {},
   "outputs": [
    {
     "output_type": "stream",
     "name": "stdout",
     "text": "Requirement already satisfied: tensorflow_datasets in /Users/karthik/anaconda3/lib/python3.7/site-packages (3.1.0)\nRequirement already satisfied: wrapt in /Users/karthik/anaconda3/lib/python3.7/site-packages (from tensorflow_datasets) (1.11.2)\nRequirement already satisfied: absl-py in /Users/karthik/anaconda3/lib/python3.7/site-packages (from tensorflow_datasets) (0.9.0)\nRequirement already satisfied: future in /Users/karthik/anaconda3/lib/python3.7/site-packages (from tensorflow_datasets) (0.18.2)\nRequirement already satisfied: promise in /Users/karthik/anaconda3/lib/python3.7/site-packages (from tensorflow_datasets) (2.3)\nRequirement already satisfied: termcolor in /Users/karthik/anaconda3/lib/python3.7/site-packages (from tensorflow_datasets) (1.1.0)\nRequirement already satisfied: tqdm in /Users/karthik/anaconda3/lib/python3.7/site-packages (from tensorflow_datasets) (4.42.1)\nRequirement already satisfied: numpy in /Users/karthik/anaconda3/lib/python3.7/site-packages (from tensorflow_datasets) (1.18.1)\nRequirement already satisfied: six in /Users/karthik/anaconda3/lib/python3.7/site-packages (from tensorflow_datasets) (1.14.0)\nRequirement already satisfied: requests>=2.19.0 in /Users/karthik/anaconda3/lib/python3.7/site-packages (from tensorflow_datasets) (2.23.0)\nRequirement already satisfied: attrs>=18.1.0 in /Users/karthik/anaconda3/lib/python3.7/site-packages (from tensorflow_datasets) (19.3.0)\nRequirement already satisfied: tensorflow-metadata in /Users/karthik/anaconda3/lib/python3.7/site-packages (from tensorflow_datasets) (0.21.2)\nRequirement already satisfied: dill in /Users/karthik/anaconda3/lib/python3.7/site-packages (from tensorflow_datasets) (0.3.1.1)\nRequirement already satisfied: protobuf>=3.6.1 in /Users/karthik/anaconda3/lib/python3.7/site-packages (from tensorflow_datasets) (3.11.3)\nRequirement already satisfied: idna<3,>=2.5 in /Users/karthik/anaconda3/lib/python3.7/site-packages (from requests>=2.19.0->tensorflow_datasets) (2.8)\nRequirement already satisfied: chardet<4,>=3.0.2 in /Users/karthik/anaconda3/lib/python3.7/site-packages (from requests>=2.19.0->tensorflow_datasets) (3.0.4)\nRequirement already satisfied: urllib3!=1.25.0,!=1.25.1,<1.26,>=1.21.1 in /Users/karthik/anaconda3/lib/python3.7/site-packages (from requests>=2.19.0->tensorflow_datasets) (1.25.8)\nRequirement already satisfied: certifi>=2017.4.17 in /Users/karthik/anaconda3/lib/python3.7/site-packages (from requests>=2.19.0->tensorflow_datasets) (2019.11.28)\nRequirement already satisfied: googleapis-common-protos in /Users/karthik/anaconda3/lib/python3.7/site-packages (from tensorflow-metadata->tensorflow_datasets) (1.51.0)\nRequirement already satisfied: setuptools in /Users/karthik/anaconda3/lib/python3.7/site-packages (from protobuf>=3.6.1->tensorflow_datasets) (45.2.0.post20200210)\n"
    }
   ],
   "source": [
    "!pip install tensorflow_datasets"
   ]
  },
  {
   "cell_type": "code",
   "execution_count": 33,
   "metadata": {},
   "outputs": [
    {
     "output_type": "stream",
     "name": "stdout",
     "text": "Collecting tensorflow==2.0\n  Using cached tensorflow-2.0.0-cp37-cp37m-macosx_10_11_x86_64.whl (102.7 MB)\nRequirement already satisfied, skipping upgrade: numpy<2.0,>=1.16.0 in /Users/karthik/anaconda3/lib/python3.7/site-packages (from tensorflow==2.0) (1.18.1)\nCollecting tensorflow-estimator<2.1.0,>=2.0.0\n  Using cached tensorflow_estimator-2.0.1-py2.py3-none-any.whl (449 kB)\nRequirement already satisfied, skipping upgrade: wrapt>=1.11.1 in /Users/karthik/anaconda3/lib/python3.7/site-packages (from tensorflow==2.0) (1.11.2)\nRequirement already satisfied, skipping upgrade: wheel>=0.26 in /Users/karthik/anaconda3/lib/python3.7/site-packages (from tensorflow==2.0) (0.34.2)\nRequirement already satisfied, skipping upgrade: keras-applications>=1.0.8 in /Users/karthik/anaconda3/lib/python3.7/site-packages (from tensorflow==2.0) (1.0.8)\nRequirement already satisfied, skipping upgrade: six>=1.10.0 in /Users/karthik/anaconda3/lib/python3.7/site-packages (from tensorflow==2.0) (1.14.0)\nRequirement already satisfied, skipping upgrade: google-pasta>=0.1.6 in /Users/karthik/anaconda3/lib/python3.7/site-packages (from tensorflow==2.0) (0.2.0)\nRequirement already satisfied, skipping upgrade: keras-preprocessing>=1.0.5 in /Users/karthik/anaconda3/lib/python3.7/site-packages (from tensorflow==2.0) (1.1.0)\nRequirement already satisfied, skipping upgrade: protobuf>=3.6.1 in /Users/karthik/anaconda3/lib/python3.7/site-packages (from tensorflow==2.0) (3.11.3)\nRequirement already satisfied, skipping upgrade: opt-einsum>=2.3.2 in /Users/karthik/anaconda3/lib/python3.7/site-packages (from tensorflow==2.0) (3.2.1)\nRequirement already satisfied, skipping upgrade: termcolor>=1.1.0 in /Users/karthik/anaconda3/lib/python3.7/site-packages (from tensorflow==2.0) (1.1.0)\nProcessing /Users/karthik/Library/Caches/pip/wheels/5c/2e/7e/a1d4d4fcebe6c381f378ce7743a3ced3699feb89bcfbdadadd/gast-0.2.2-cp37-none-any.whl\nRequirement already satisfied, skipping upgrade: absl-py>=0.7.0 in /Users/karthik/anaconda3/lib/python3.7/site-packages (from tensorflow==2.0) (0.9.0)\nRequirement already satisfied, skipping upgrade: grpcio>=1.8.6 in /Users/karthik/anaconda3/lib/python3.7/site-packages (from tensorflow==2.0) (1.28.1)\nRequirement already satisfied, skipping upgrade: astor>=0.6.0 in /Users/karthik/anaconda3/lib/python3.7/site-packages (from tensorflow==2.0) (0.8.1)\nCollecting tensorboard<2.1.0,>=2.0.0\n  Using cached tensorboard-2.0.2-py3-none-any.whl (3.8 MB)\nRequirement already satisfied, skipping upgrade: h5py in /Users/karthik/anaconda3/lib/python3.7/site-packages (from keras-applications>=1.0.8->tensorflow==2.0) (2.10.0)\nRequirement already satisfied, skipping upgrade: setuptools in /Users/karthik/anaconda3/lib/python3.7/site-packages (from protobuf>=3.6.1->tensorflow==2.0) (45.2.0.post20200210)\nRequirement already satisfied, skipping upgrade: markdown>=2.6.8 in /Users/karthik/anaconda3/lib/python3.7/site-packages (from tensorboard<2.1.0,>=2.0.0->tensorflow==2.0) (3.2.1)\nRequirement already satisfied, skipping upgrade: google-auth-oauthlib<0.5,>=0.4.1 in /Users/karthik/anaconda3/lib/python3.7/site-packages (from tensorboard<2.1.0,>=2.0.0->tensorflow==2.0) (0.4.1)\nRequirement already satisfied, skipping upgrade: requests<3,>=2.21.0 in /Users/karthik/anaconda3/lib/python3.7/site-packages (from tensorboard<2.1.0,>=2.0.0->tensorflow==2.0) (2.23.0)\nRequirement already satisfied, skipping upgrade: werkzeug>=0.11.15 in /Users/karthik/anaconda3/lib/python3.7/site-packages (from tensorboard<2.1.0,>=2.0.0->tensorflow==2.0) (1.0.0)\nRequirement already satisfied, skipping upgrade: google-auth<2,>=1.6.3 in /Users/karthik/anaconda3/lib/python3.7/site-packages (from tensorboard<2.1.0,>=2.0.0->tensorflow==2.0) (1.14.1)\nRequirement already satisfied, skipping upgrade: requests-oauthlib>=0.7.0 in /Users/karthik/anaconda3/lib/python3.7/site-packages (from google-auth-oauthlib<0.5,>=0.4.1->tensorboard<2.1.0,>=2.0.0->tensorflow==2.0) (1.3.0)\nRequirement already satisfied, skipping upgrade: certifi>=2017.4.17 in /Users/karthik/anaconda3/lib/python3.7/site-packages (from requests<3,>=2.21.0->tensorboard<2.1.0,>=2.0.0->tensorflow==2.0) (2019.11.28)\nRequirement already satisfied, skipping upgrade: urllib3!=1.25.0,!=1.25.1,<1.26,>=1.21.1 in /Users/karthik/anaconda3/lib/python3.7/site-packages (from requests<3,>=2.21.0->tensorboard<2.1.0,>=2.0.0->tensorflow==2.0) (1.25.8)\nRequirement already satisfied, skipping upgrade: chardet<4,>=3.0.2 in /Users/karthik/anaconda3/lib/python3.7/site-packages (from requests<3,>=2.21.0->tensorboard<2.1.0,>=2.0.0->tensorflow==2.0) (3.0.4)\nRequirement already satisfied, skipping upgrade: idna<3,>=2.5 in /Users/karthik/anaconda3/lib/python3.7/site-packages (from requests<3,>=2.21.0->tensorboard<2.1.0,>=2.0.0->tensorflow==2.0) (2.8)\nRequirement already satisfied, skipping upgrade: rsa<4.1,>=3.1.4 in /Users/karthik/anaconda3/lib/python3.7/site-packages (from google-auth<2,>=1.6.3->tensorboard<2.1.0,>=2.0.0->tensorflow==2.0) (4.0)\nRequirement already satisfied, skipping upgrade: pyasn1-modules>=0.2.1 in /Users/karthik/anaconda3/lib/python3.7/site-packages (from google-auth<2,>=1.6.3->tensorboard<2.1.0,>=2.0.0->tensorflow==2.0) (0.2.8)\nRequirement already satisfied, skipping upgrade: cachetools<5.0,>=2.0.0 in /Users/karthik/anaconda3/lib/python3.7/site-packages (from google-auth<2,>=1.6.3->tensorboard<2.1.0,>=2.0.0->tensorflow==2.0) (4.1.0)\nRequirement already satisfied, skipping upgrade: oauthlib>=3.0.0 in /Users/karthik/anaconda3/lib/python3.7/site-packages (from requests-oauthlib>=0.7.0->google-auth-oauthlib<0.5,>=0.4.1->tensorboard<2.1.0,>=2.0.0->tensorflow==2.0) (3.1.0)\nRequirement already satisfied, skipping upgrade: pyasn1>=0.1.3 in /Users/karthik/anaconda3/lib/python3.7/site-packages (from rsa<4.1,>=3.1.4->google-auth<2,>=1.6.3->tensorboard<2.1.0,>=2.0.0->tensorflow==2.0) (0.4.8)\n\u001b[31mERROR: tensorflow-probability 0.10.0 has requirement gast>=0.3.2, but you'll have gast 0.2.2 which is incompatible.\u001b[0m\n\u001b[31mERROR: tensorflow-serving-api 2.1.0 has requirement tensorflow~=2.1.0, but you'll have tensorflow 2.0.0 which is incompatible.\u001b[0m\n\u001b[31mERROR: tensorflow-cpu 2.1.0 has requirement tensorboard<2.2.0,>=2.1.0, but you'll have tensorboard 2.0.2 which is incompatible.\u001b[0m\n\u001b[31mERROR: tensorflow-cpu 2.1.0 has requirement tensorflow-estimator<2.2.0,>=2.1.0rc0, but you'll have tensorflow-estimator 2.0.1 which is incompatible.\u001b[0m\nInstalling collected packages: tensorflow-estimator, gast, tensorboard, tensorflow\n  Attempting uninstall: tensorflow-estimator\n    Found existing installation: tensorflow-estimator 2.2.0\n    Uninstalling tensorflow-estimator-2.2.0:\n      Successfully uninstalled tensorflow-estimator-2.2.0\n  Attempting uninstall: gast\n    Found existing installation: gast 0.3.3\n    Uninstalling gast-0.3.3:\n      Successfully uninstalled gast-0.3.3\n  Attempting uninstall: tensorboard\n    Found existing installation: tensorboard 2.2.2\n    Uninstalling tensorboard-2.2.2:\n      Successfully uninstalled tensorboard-2.2.2\n  Attempting uninstall: tensorflow\n    Found existing installation: tensorflow 2.2.0\n    Uninstalling tensorflow-2.2.0:\n      Successfully uninstalled tensorflow-2.2.0\nSuccessfully installed gast-0.2.2 tensorboard-2.0.2 tensorflow-2.0.0 tensorflow-estimator-2.0.1\n"
    }
   ],
   "source": [
    "!pip install -U \"tensorflow==2.0\" "
   ]
  },
  {
   "cell_type": "code",
   "execution_count": 36,
   "metadata": {},
   "outputs": [
    {
     "output_type": "stream",
     "name": "stdout",
     "text": "Requirement already up-to-date: tensorflow==2.0 in /Users/karthik/anaconda3/lib/python3.7/site-packages (2.0.0)\nRequirement already satisfied, skipping upgrade: tensorflow-estimator<2.1.0,>=2.0.0 in /Users/karthik/anaconda3/lib/python3.7/site-packages (from tensorflow==2.0) (2.0.1)\nRequirement already satisfied, skipping upgrade: wrapt>=1.11.1 in /Users/karthik/anaconda3/lib/python3.7/site-packages (from tensorflow==2.0) (1.11.2)\nRequirement already satisfied, skipping upgrade: six>=1.10.0 in /Users/karthik/anaconda3/lib/python3.7/site-packages (from tensorflow==2.0) (1.14.0)\nRequirement already satisfied, skipping upgrade: google-pasta>=0.1.6 in /Users/karthik/anaconda3/lib/python3.7/site-packages (from tensorflow==2.0) (0.2.0)\nRequirement already satisfied, skipping upgrade: keras-applications>=1.0.8 in /Users/karthik/anaconda3/lib/python3.7/site-packages (from tensorflow==2.0) (1.0.8)\nRequirement already satisfied, skipping upgrade: astor>=0.6.0 in /Users/karthik/anaconda3/lib/python3.7/site-packages (from tensorflow==2.0) (0.8.1)\nRequirement already satisfied, skipping upgrade: gast==0.2.2 in /Users/karthik/anaconda3/lib/python3.7/site-packages (from tensorflow==2.0) (0.2.2)\nRequirement already satisfied, skipping upgrade: keras-preprocessing>=1.0.5 in /Users/karthik/anaconda3/lib/python3.7/site-packages (from tensorflow==2.0) (1.1.0)\nRequirement already satisfied, skipping upgrade: opt-einsum>=2.3.2 in /Users/karthik/anaconda3/lib/python3.7/site-packages (from tensorflow==2.0) (3.2.1)\nRequirement already satisfied, skipping upgrade: tensorboard<2.1.0,>=2.0.0 in /Users/karthik/anaconda3/lib/python3.7/site-packages (from tensorflow==2.0) (2.0.2)\nRequirement already satisfied, skipping upgrade: grpcio>=1.8.6 in /Users/karthik/anaconda3/lib/python3.7/site-packages (from tensorflow==2.0) (1.28.1)\nRequirement already satisfied, skipping upgrade: wheel>=0.26 in /Users/karthik/anaconda3/lib/python3.7/site-packages (from tensorflow==2.0) (0.34.2)\nRequirement already satisfied, skipping upgrade: termcolor>=1.1.0 in /Users/karthik/anaconda3/lib/python3.7/site-packages (from tensorflow==2.0) (1.1.0)\nRequirement already satisfied, skipping upgrade: absl-py>=0.7.0 in /Users/karthik/anaconda3/lib/python3.7/site-packages (from tensorflow==2.0) (0.9.0)\nRequirement already satisfied, skipping upgrade: protobuf>=3.6.1 in /Users/karthik/anaconda3/lib/python3.7/site-packages (from tensorflow==2.0) (3.11.3)\nRequirement already satisfied, skipping upgrade: numpy<2.0,>=1.16.0 in /Users/karthik/anaconda3/lib/python3.7/site-packages (from tensorflow==2.0) (1.18.1)\nRequirement already satisfied, skipping upgrade: h5py in /Users/karthik/anaconda3/lib/python3.7/site-packages (from keras-applications>=1.0.8->tensorflow==2.0) (2.10.0)\nRequirement already satisfied, skipping upgrade: google-auth<2,>=1.6.3 in /Users/karthik/anaconda3/lib/python3.7/site-packages (from tensorboard<2.1.0,>=2.0.0->tensorflow==2.0) (1.14.1)\nRequirement already satisfied, skipping upgrade: markdown>=2.6.8 in /Users/karthik/anaconda3/lib/python3.7/site-packages (from tensorboard<2.1.0,>=2.0.0->tensorflow==2.0) (3.2.1)\nRequirement already satisfied, skipping upgrade: werkzeug>=0.11.15 in /Users/karthik/anaconda3/lib/python3.7/site-packages (from tensorboard<2.1.0,>=2.0.0->tensorflow==2.0) (1.0.0)\nRequirement already satisfied, skipping upgrade: setuptools>=41.0.0 in /Users/karthik/anaconda3/lib/python3.7/site-packages (from tensorboard<2.1.0,>=2.0.0->tensorflow==2.0) (45.2.0.post20200210)\nRequirement already satisfied, skipping upgrade: requests<3,>=2.21.0 in /Users/karthik/anaconda3/lib/python3.7/site-packages (from tensorboard<2.1.0,>=2.0.0->tensorflow==2.0) (2.23.0)\nRequirement already satisfied, skipping upgrade: google-auth-oauthlib<0.5,>=0.4.1 in /Users/karthik/anaconda3/lib/python3.7/site-packages (from tensorboard<2.1.0,>=2.0.0->tensorflow==2.0) (0.4.1)\nRequirement already satisfied, skipping upgrade: rsa<4.1,>=3.1.4 in /Users/karthik/anaconda3/lib/python3.7/site-packages (from google-auth<2,>=1.6.3->tensorboard<2.1.0,>=2.0.0->tensorflow==2.0) (4.0)\nRequirement already satisfied, skipping upgrade: pyasn1-modules>=0.2.1 in /Users/karthik/anaconda3/lib/python3.7/site-packages (from google-auth<2,>=1.6.3->tensorboard<2.1.0,>=2.0.0->tensorflow==2.0) (0.2.8)\nRequirement already satisfied, skipping upgrade: cachetools<5.0,>=2.0.0 in /Users/karthik/anaconda3/lib/python3.7/site-packages (from google-auth<2,>=1.6.3->tensorboard<2.1.0,>=2.0.0->tensorflow==2.0) (4.1.0)\nRequirement already satisfied, skipping upgrade: idna<3,>=2.5 in /Users/karthik/anaconda3/lib/python3.7/site-packages (from requests<3,>=2.21.0->tensorboard<2.1.0,>=2.0.0->tensorflow==2.0) (2.8)\nRequirement already satisfied, skipping upgrade: urllib3!=1.25.0,!=1.25.1,<1.26,>=1.21.1 in /Users/karthik/anaconda3/lib/python3.7/site-packages (from requests<3,>=2.21.0->tensorboard<2.1.0,>=2.0.0->tensorflow==2.0) (1.25.8)\nRequirement already satisfied, skipping upgrade: certifi>=2017.4.17 in /Users/karthik/anaconda3/lib/python3.7/site-packages (from requests<3,>=2.21.0->tensorboard<2.1.0,>=2.0.0->tensorflow==2.0) (2019.11.28)\nRequirement already satisfied, skipping upgrade: chardet<4,>=3.0.2 in /Users/karthik/anaconda3/lib/python3.7/site-packages (from requests<3,>=2.21.0->tensorboard<2.1.0,>=2.0.0->tensorflow==2.0) (3.0.4)\nRequirement already satisfied, skipping upgrade: requests-oauthlib>=0.7.0 in /Users/karthik/anaconda3/lib/python3.7/site-packages (from google-auth-oauthlib<0.5,>=0.4.1->tensorboard<2.1.0,>=2.0.0->tensorflow==2.0) (1.3.0)\nRequirement already satisfied, skipping upgrade: pyasn1>=0.1.3 in /Users/karthik/anaconda3/lib/python3.7/site-packages (from rsa<4.1,>=3.1.4->google-auth<2,>=1.6.3->tensorboard<2.1.0,>=2.0.0->tensorflow==2.0) (0.4.8)\nRequirement already satisfied, skipping upgrade: oauthlib>=3.0.0 in /Users/karthik/anaconda3/lib/python3.7/site-packages (from requests-oauthlib>=0.7.0->google-auth-oauthlib<0.5,>=0.4.1->tensorboard<2.1.0,>=2.0.0->tensorflow==2.0) (3.1.0)\n"
    }
   ],
   "source": [
    "!pip install -U \"tensorflow==2.0\" "
   ]
  },
  {
   "cell_type": "code",
   "execution_count": null,
   "metadata": {},
   "outputs": [],
   "source": []
  }
 ],
 "metadata": {
  "language_info": {
   "codemirror_mode": {
    "name": "ipython",
    "version": 3
   },
   "file_extension": ".py",
   "mimetype": "text/x-python",
   "name": "python",
   "nbconvert_exporter": "python",
   "pygments_lexer": "ipython3",
   "version": "3.7.5-final"
  },
  "orig_nbformat": 2,
  "kernelspec": {
   "name": "python37564bit12d6488235484e139ef7d1ecba7c0206",
   "display_name": "Python 3.7.5 64-bit"
  }
 },
 "nbformat": 4,
 "nbformat_minor": 2
}