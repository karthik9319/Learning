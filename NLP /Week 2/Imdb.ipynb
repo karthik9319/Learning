{
 "cells": [
  {
   "cell_type": "code",
   "execution_count": 1,
   "metadata": {},
   "outputs": [
    {
     "output_type": "stream",
     "name": "stdout",
     "text": "2.2.0\n"
    }
   ],
   "source": [
    "import tensorflow as tf\n",
    "print(tf.__version__)"
   ]
  },
  {
   "cell_type": "code",
   "execution_count": 4,
   "metadata": {},
   "outputs": [],
   "source": [
    "import tensorflow_datasets as tfds\n",
    "import numpy as np"
   ]
  },
  {
   "cell_type": "code",
   "execution_count": 3,
   "metadata": {},
   "outputs": [
    {
     "output_type": "stream",
     "name": "stdout",
     "text": "\u001b[1mDownloading and preparing dataset imdb_reviews/plain_text/1.0.0 (download: 80.23 MiB, generated: Unknown size, total: 80.23 MiB) to /Users/karthik/tensorflow_datasets/imdb_reviews/plain_text/1.0.0...\u001b[0m\nDl Completed...: 0 url [00:00, ? url/s]\nDl Completed...:   0%|          | 0/1 [00:00<?, ? url/s]\nDl Completed...:   0%|          | 0/1 [00:00<?, ? url/s]\nDl Size...:   0%|          | 0/80 [00:00<?, ? MiB/s]\u001b[A\nDl Completed...:   0%|          | 0/1 [00:01<?, ? url/s]\nDl Size...:   1%|▏         | 1/80 [00:01<01:54,  1.44s/ MiB]\u001b[A\nDl Completed...:   0%|          | 0/1 [00:01<?, ? url/s]\nDl Size...:   2%|▎         | 2/80 [00:01<01:24,  1.08s/ MiB]\u001b[A\nDl Completed...:   0%|          | 0/1 [00:01<?, ? url/s]\nDl Size...:   4%|▍         | 3/80 [00:01<01:03,  1.20 MiB/s]\u001b[A\nDl Completed...:   0%|          | 0/1 [00:02<?, ? url/s]\nDl Size...:   5%|▌         | 4/80 [00:02<00:49,  1.53 MiB/s]\u001b[A\nDl Completed...:   0%|          | 0/1 [00:02<?, ? url/s]\nDl Size...:   6%|▋         | 5/80 [00:02<00:39,  1.92 MiB/s]\u001b[A\nDl Completed...:   0%|          | 0/1 [00:02<?, ? url/s]\nDl Size...:   8%|▊         | 6/80 [00:02<00:31,  2.31 MiB/s]\u001b[A\nDl Completed...:   0%|          | 0/1 [00:02<?, ? url/s]\nDl Size...:   9%|▉         | 7/80 [00:02<00:25,  2.92 MiB/s]\u001b[A\nDl Completed...:   0%|          | 0/1 [00:02<?, ? url/s]\nDl Size...:  10%|█         | 8/80 [00:02<00:20,  3.47 MiB/s]\u001b[A\nDl Completed...:   0%|          | 0/1 [00:03<?, ? url/s]\nDl Size...:  11%|█▏        | 9/80 [00:03<00:20,  3.38 MiB/s]\u001b[A\nDl Completed...:   0%|          | 0/1 [00:03<?, ? url/s]\nDl Size...:  12%|█▎        | 10/80 [00:03<00:19,  3.68 MiB/s]\u001b[A\nDl Completed...:   0%|          | 0/1 [00:03<?, ? url/s]\nDl Size...:  14%|█▍        | 11/80 [00:03<00:16,  4.13 MiB/s]\u001b[A\nDl Completed...:   0%|          | 0/1 [00:03<?, ? url/s]\nDl Size...:  15%|█▌        | 12/80 [00:03<00:18,  3.77 MiB/s]\u001b[A\nDl Completed...:   0%|          | 0/1 [00:04<?, ? url/s]\nDl Size...:  16%|█▋        | 13/80 [00:04<00:18,  3.53 MiB/s]\u001b[A\nDl Completed...:   0%|          | 0/1 [00:04<?, ? url/s]\nDl Size...:  18%|█▊        | 14/80 [00:04<00:18,  3.59 MiB/s]\u001b[A\nDl Completed...:   0%|          | 0/1 [00:04<?, ? url/s]\nDl Size...:  19%|█▉        | 15/80 [00:04<00:16,  3.97 MiB/s]\u001b[A\nDl Completed...:   0%|          | 0/1 [00:05<?, ? url/s]\nDl Size...:  20%|██        | 16/80 [00:05<00:17,  3.72 MiB/s]\u001b[A\nDl Completed...:   0%|          | 0/1 [00:05<?, ? url/s]\nDl Size...:  21%|██▏       | 17/80 [00:05<00:15,  4.14 MiB/s]\u001b[A\nDl Completed...:   0%|          | 0/1 [00:05<?, ? url/s]\nDl Size...:  22%|██▎       | 18/80 [00:05<00:17,  3.62 MiB/s]\u001b[A\nDl Completed...:   0%|          | 0/1 [00:06<?, ? url/s]\nDl Size...:  24%|██▍       | 19/80 [00:06<00:24,  2.52 MiB/s]\u001b[A\nDl Completed...:   0%|          | 0/1 [00:06<?, ? url/s]\nDl Size...:  25%|██▌       | 20/80 [00:06<00:22,  2.70 MiB/s]\u001b[A\nDl Completed...:   0%|          | 0/1 [00:06<?, ? url/s]\nDl Size...:  26%|██▋       | 21/80 [00:06<00:19,  3.02 MiB/s]\u001b[A\nDl Completed...:   0%|          | 0/1 [00:07<?, ? url/s]\nDl Size...:  28%|██▊       | 22/80 [00:07<00:18,  3.08 MiB/s]\u001b[A\nDl Completed...:   0%|          | 0/1 [00:07<?, ? url/s]\nDl Size...:  29%|██▉       | 23/80 [00:07<00:21,  2.71 MiB/s]\u001b[A\nDl Completed...:   0%|          | 0/1 [00:07<?, ? url/s]\nDl Size...:  30%|███       | 24/80 [00:07<00:21,  2.66 MiB/s]\u001b[A\nDl Completed...:   0%|          | 0/1 [00:08<?, ? url/s]\nDl Size...:  31%|███▏      | 25/80 [00:08<00:21,  2.58 MiB/s]\u001b[A\nDl Completed...:   0%|          | 0/1 [00:08<?, ? url/s]\nDl Size...:  32%|███▎      | 26/80 [00:08<00:17,  3.07 MiB/s]\u001b[A\nDl Completed...:   0%|          | 0/1 [00:08<?, ? url/s]\nDl Size...:  34%|███▍      | 27/80 [00:08<00:16,  3.16 MiB/s]\u001b[A\nDl Completed...:   0%|          | 0/1 [00:09<?, ? url/s]\nDl Size...:  35%|███▌      | 28/80 [00:09<00:14,  3.67 MiB/s]\u001b[A\nDl Completed...:   0%|          | 0/1 [00:09<?, ? url/s]\nDl Size...:  36%|███▋      | 29/80 [00:09<00:12,  4.13 MiB/s]\u001b[A\nDl Completed...:   0%|          | 0/1 [00:09<?, ? url/s]\nDl Size...:  38%|███▊      | 30/80 [00:09<00:11,  4.42 MiB/s]\u001b[A\nDl Completed...:   0%|          | 0/1 [00:09<?, ? url/s]\nDl Size...:  39%|███▉      | 31/80 [00:09<00:11,  4.30 MiB/s]\u001b[A\nDl Completed...:   0%|          | 0/1 [00:09<?, ? url/s]\nDl Size...:  40%|████      | 32/80 [00:09<00:11,  4.34 MiB/s]\u001b[A\nDl Completed...:   0%|          | 0/1 [00:10<?, ? url/s]\nDl Size...:  41%|████▏     | 33/80 [00:10<00:12,  3.91 MiB/s]\u001b[A\nDl Completed...:   0%|          | 0/1 [00:10<?, ? url/s]\nDl Size...:  42%|████▎     | 34/80 [00:10<00:11,  3.93 MiB/s]\u001b[A\nDl Completed...:   0%|          | 0/1 [00:10<?, ? url/s]\nDl Size...:  44%|████▍     | 35/80 [00:10<00:14,  3.13 MiB/s]\u001b[A\nDl Completed...:   0%|          | 0/1 [00:11<?, ? url/s]\nDl Size...:  45%|████▌     | 36/80 [00:11<00:12,  3.46 MiB/s]\u001b[A\nDl Completed...:   0%|          | 0/1 [00:11<?, ? url/s]\nDl Size...:  46%|████▋     | 37/80 [00:11<00:12,  3.52 MiB/s]\u001b[A\nDl Completed...:   0%|          | 0/1 [00:11<?, ? url/s]\nDl Size...:  48%|████▊     | 38/80 [00:11<00:13,  3.13 MiB/s]\u001b[A\nDl Completed...:   0%|          | 0/1 [00:12<?, ? url/s]\nDl Size...:  49%|████▉     | 39/80 [00:12<00:14,  2.87 MiB/s]\u001b[A\nDl Completed...:   0%|          | 0/1 [00:12<?, ? url/s]\nDl Size...:  50%|█████     | 40/80 [00:12<00:13,  3.07 MiB/s]\u001b[A\nDl Completed...:   0%|          | 0/1 [00:12<?, ? url/s]\nDl Size...:  51%|█████▏    | 41/80 [00:12<00:11,  3.44 MiB/s]\u001b[A\nDl Completed...:   0%|          | 0/1 [00:12<?, ? url/s]\nDl Size...:  52%|█████▎    | 42/80 [00:12<00:11,  3.40 MiB/s]\u001b[A\nDl Completed...:   0%|          | 0/1 [00:13<?, ? url/s]\nDl Size...:  54%|█████▍    | 43/80 [00:13<00:11,  3.35 MiB/s]\u001b[A\nDl Completed...:   0%|          | 0/1 [00:13<?, ? url/s]\nDl Size...:  55%|█████▌    | 44/80 [00:13<00:10,  3.43 MiB/s]\u001b[A\nDl Completed...:   0%|          | 0/1 [00:13<?, ? url/s]\nDl Size...:  56%|█████▋    | 45/80 [00:13<00:09,  3.65 MiB/s]\u001b[A\nDl Completed...:   0%|          | 0/1 [00:14<?, ? url/s]\nDl Size...:  57%|█████▊    | 46/80 [00:14<00:16,  2.12 MiB/s]\u001b[A\nDl Completed...:   0%|          | 0/1 [00:15<?, ? url/s]\nDl Size...:  59%|█████▉    | 47/80 [00:15<00:18,  1.74 MiB/s]\u001b[A\nDl Completed...:   0%|          | 0/1 [00:15<?, ? url/s]\nDl Size...:  60%|██████    | 48/80 [00:15<00:16,  1.99 MiB/s]\u001b[A\nDl Completed...:   0%|          | 0/1 [00:16<?, ? url/s]\nDl Size...:  61%|██████▏   | 49/80 [00:16<00:12,  2.41 MiB/s]\u001b[A\nDl Completed...:   0%|          | 0/1 [00:16<?, ? url/s]\nDl Size...:  62%|██████▎   | 50/80 [00:16<00:11,  2.55 MiB/s]\u001b[A\nDl Completed...:   0%|          | 0/1 [00:17<?, ? url/s]\nDl Size...:  64%|██████▍   | 51/80 [00:17<00:16,  1.81 MiB/s]\u001b[A\nDl Completed...:   0%|          | 0/1 [00:17<?, ? url/s]\nDl Size...:  65%|██████▌   | 52/80 [00:17<00:14,  1.98 MiB/s]\u001b[A\nDl Completed...:   0%|          | 0/1 [00:17<?, ? url/s]\nDl Size...:  66%|██████▋   | 53/80 [00:17<00:11,  2.35 MiB/s]\u001b[A\nDl Completed...:   0%|          | 0/1 [00:18<?, ? url/s]\nDl Size...:  68%|██████▊   | 54/80 [00:18<00:09,  2.86 MiB/s]\u001b[A\nDl Completed...:   0%|          | 0/1 [00:18<?, ? url/s]\nDl Size...:  69%|██████▉   | 55/80 [00:18<00:10,  2.46 MiB/s]\u001b[A\nDl Completed...:   0%|          | 0/1 [00:18<?, ? url/s]\nDl Size...:  70%|███████   | 56/80 [00:18<00:08,  2.78 MiB/s]\u001b[A\nDl Completed...:   0%|          | 0/1 [00:19<?, ? url/s]\nDl Size...:  71%|███████▏  | 57/80 [00:19<00:07,  3.03 MiB/s]\u001b[A\nDl Completed...:   0%|          | 0/1 [00:19<?, ? url/s]\nDl Size...:  72%|███████▎  | 58/80 [00:19<00:07,  3.05 MiB/s]\u001b[A\nDl Completed...:   0%|          | 0/1 [00:19<?, ? url/s]\nDl Size...:  74%|███████▍  | 59/80 [00:19<00:06,  3.42 MiB/s]\u001b[A\nDl Completed...:   0%|          | 0/1 [00:19<?, ? url/s]\nDl Size...:  75%|███████▌  | 60/80 [00:19<00:05,  3.80 MiB/s]\u001b[A\nDl Completed...:   0%|          | 0/1 [00:20<?, ? url/s]\nDl Size...:  76%|███████▋  | 61/80 [00:20<00:04,  4.15 MiB/s]\u001b[A\nDl Completed...:   0%|          | 0/1 [00:20<?, ? url/s]\nDl Size...:  78%|███████▊  | 62/80 [00:20<00:04,  4.48 MiB/s]\u001b[A\nDl Completed...:   0%|          | 0/1 [00:20<?, ? url/s]\nDl Size...:  79%|███████▉  | 63/80 [00:20<00:04,  4.24 MiB/s]\u001b[A\nDl Completed...:   0%|          | 0/1 [00:20<?, ? url/s]\nDl Size...:  80%|████████  | 64/80 [00:20<00:03,  4.26 MiB/s]\u001b[A\nDl Completed...:   0%|          | 0/1 [00:20<?, ? url/s]\nDl Size...:  81%|████████▏ | 65/80 [00:20<00:03,  4.82 MiB/s]\u001b[A\nDl Completed...:   0%|          | 0/1 [00:21<?, ? url/s]\nDl Size...:  82%|████████▎ | 66/80 [00:21<00:03,  4.55 MiB/s]\u001b[A\nDl Completed...:   0%|          | 0/1 [00:21<?, ? url/s]\nDl Size...:  84%|████████▍ | 67/80 [00:21<00:03,  4.21 MiB/s]\u001b[A\nDl Completed...:   0%|          | 0/1 [00:21<?, ? url/s]\nDl Size...:  85%|████████▌ | 68/80 [00:21<00:02,  4.19 MiB/s]\u001b[A\nDl Completed...:   0%|          | 0/1 [00:22<?, ? url/s]\nDl Size...:  86%|████████▋ | 69/80 [00:22<00:03,  3.33 MiB/s]\u001b[A\nDl Completed...:   0%|          | 0/1 [00:22<?, ? url/s]\nDl Size...:  88%|████████▊ | 70/80 [00:22<00:02,  3.34 MiB/s]\u001b[A\nDl Completed...:   0%|          | 0/1 [00:22<?, ? url/s]\nDl Size...:  89%|████████▉ | 71/80 [00:22<00:02,  3.18 MiB/s]\u001b[A\nDl Completed...:   0%|          | 0/1 [00:23<?, ? url/s]\nDl Size...:  90%|█████████ | 72/80 [00:23<00:03,  2.50 MiB/s]\u001b[A\nDl Completed...:   0%|          | 0/1 [00:24<?, ? url/s]\nDl Size...:  91%|█████████▏| 73/80 [00:24<00:03,  1.79 MiB/s]\u001b[A\nDl Completed...:   0%|          | 0/1 [00:24<?, ? url/s]\nDl Size...:  92%|█████████▎| 74/80 [00:24<00:02,  2.09 MiB/s]\u001b[A\nDl Completed...:   0%|          | 0/1 [00:24<?, ? url/s]\nDl Size...:  94%|█████████▍| 75/80 [00:24<00:02,  2.39 MiB/s]\u001b[A\nDl Completed...:   0%|          | 0/1 [00:25<?, ? url/s]\nDl Size...:  95%|█████████▌| 76/80 [00:25<00:01,  2.64 MiB/s]\u001b[A\nDl Completed...:   0%|          | 0/1 [00:25<?, ? url/s]\nDl Size...:  96%|█████████▋| 77/80 [00:25<00:00,  3.04 MiB/s]\u001b[A\nDl Completed...:   0%|          | 0/1 [00:25<?, ? url/s]\nDl Size...:  98%|█████████▊| 78/80 [00:25<00:00,  3.34 MiB/s]\u001b[A\nDl Completed...:   0%|          | 0/1 [00:25<?, ? url/s]\nDl Size...:  99%|█████████▉| 79/80 [00:25<00:00,  3.80 MiB/s]\u001b[A\nDl Completed...:   0%|          | 0/1 [00:25<?, ? url/s]\nDl Completed...: 100%|██████████| 1/1 [00:26<00:00, 26.00s/ url]\nDl Size...: 100%|██████████| 80/80 [00:26<00:00,  3.08 MiB/s]\nDl Completed...: 100%|██████████| 1/1 [00:26<00:00, 26.01s/ url]\n0 examples [00:00, ? examples/s]\n\n 95%|█████████▍| 23702/25000 [00:00<00:00, 109853.43 examples/s]Shuffling and writing examples to /Users/karthik/tensorflow_datasets/imdb_reviews/plain_text/1.0.0.incompleteDCQUA5/imdb_reviews-train.tfrecord\n100%|█████████▉| 24918/25000 [00:00<00:00, 117179.97 examples/s]Shuffling and writing examples to /Users/karthik/tensorflow_datasets/imdb_reviews/plain_text/1.0.0.incompleteDCQUA5/imdb_reviews-test.tfrecord\n 29%|██▉       | 14587/50000 [00:00<00:00, 42864.58 examples/s]Shuffling and writing examples to /Users/karthik/tensorflow_datasets/imdb_reviews/plain_text/1.0.0.incompleteDCQUA5/imdb_reviews-unsupervised.tfrecord\n 95%|█████████▌| 47514/50000 [00:00<00:00, 71693.53 examples/s]\u001b[1mDataset imdb_reviews downloaded and prepared to /Users/karthik/tensorflow_datasets/imdb_reviews/plain_text/1.0.0. Subsequent calls will reuse this data.\u001b[0m\n"
    }
   ],
   "source": [
    "imdb, infp = tfds.load(\"imdb_reviews\", with_info= True, as_supervised= True)"
   ]
  },
  {
   "cell_type": "code",
   "execution_count": null,
   "metadata": {},
   "outputs": [],
   "source": []
  }
 ],
 "metadata": {
  "language_info": {
   "codemirror_mode": {
    "name": "ipython",
    "version": 3
   },
   "file_extension": ".py",
   "mimetype": "text/x-python",
   "name": "python",
   "nbconvert_exporter": "python",
   "pygments_lexer": "ipython3",
   "version": "3.7.5-final"
  },
  "orig_nbformat": 2,
  "kernelspec": {
   "name": "python37564bit47ed710654564d6e9666ea18624a44ba",
   "display_name": "Python 3.7.5 64-bit"
  }
 },
 "nbformat": 4,
 "nbformat_minor": 2
}