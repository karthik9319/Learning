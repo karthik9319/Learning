{
 "cells": [
  {
   "cell_type": "code",
   "execution_count": 1,
   "metadata": {},
   "outputs": [
    {
     "name": "stdout",
     "output_type": "stream",
     "text": [
      "2.2.0\n"
     ]
    }
   ],
   "source": [
    "import tensorflow as tf\n",
    "import numpy as np\n",
    "import matplotlib.pyplot as plt\n",
    "print(tf.__version__)"
   ]
  },
  {
   "cell_type": "code",
   "execution_count": 2,
   "metadata": {},
   "outputs": [],
   "source": [
    "def plot_series(time, series, format=\"-\", start=0, end=None):\n",
    "    plt.plot(time[start:end], series[start:end], format)\n",
    "    plt.xlabel(\"Time\")\n",
    "    plt.ylabel(\"Value\")\n",
    "    plt.grid(True)\n",
    "\n",
    "def trend(time, slope=0):\n",
    "    return slope * time\n",
    "\n",
    "def seasonal_pattern(season_time):\n",
    "    \"\"\"Just an arbitrary pattern, you can change it if you wish\"\"\"\n",
    "    return np.where(season_time < 0.4,\n",
    "                    np.cos(season_time * 2 * np.pi),\n",
    "                    1 / np.exp(3 * season_time))\n",
    "\n",
    "def seasonality(time, period, amplitude=1, phase=0):\n",
    "    \"\"\"Repeats the same pattern at each period\"\"\"\n",
    "    season_time = ((time + phase) % period) / period\n",
    "    return amplitude * seasonal_pattern(season_time)\n",
    "\n",
    "def noise(time, noise_level=1, seed=None):\n",
    "    rnd = np.random.RandomState(seed)\n",
    "    return rnd.randn(len(time)) * noise_level"
   ]
  },
  {
   "cell_type": "code",
   "execution_count": 3,
   "metadata": {},
   "outputs": [],
   "source": [
    "time = np.arange(4 * 365 + 1, dtype=\"float32\")\n",
    "baseline = 10\n",
    "series = trend(time, 0.1)  \n",
    "baseline = 10\n",
    "amplitude = 40\n",
    "slope = 0.05\n",
    "noise_level = 5"
   ]
  },
  {
   "cell_type": "code",
   "execution_count": 4,
   "metadata": {},
   "outputs": [],
   "source": [
    "# Create the series\n",
    "series = baseline + trend(time, slope) + seasonality(time, period=365, amplitude=amplitude)\n",
    "# Update with noise\n",
    "series += noise(time, noise_level, seed=42)"
   ]
  },
  {
   "cell_type": "code",
   "execution_count": 5,
   "metadata": {},
   "outputs": [],
   "source": [
    "split_time = 1000\n",
    "time_train = time[:split_time]\n",
    "x_train = series[:split_time]\n",
    "time_valid = time[split_time:]\n",
    "x_valid = series[split_time:]"
   ]
  },
  {
   "cell_type": "code",
   "execution_count": 6,
   "metadata": {},
   "outputs": [],
   "source": [
    "window_size = 20\n",
    "batch_size = 32\n",
    "shuffle_buffer_size = 1000"
   ]
  },
  {
   "cell_type": "code",
   "execution_count": 7,
   "metadata": {},
   "outputs": [],
   "source": [
    "def windowed_dataset(series, window_size, batch_size, shuffle_buffer):\n",
    "    dataset = tf.data.Dataset.from_tensor_slices(series)\n",
    "    dataset = dataset.window(window_size + 1, shift=1, drop_remainder=True)\n",
    "    dataset = dataset.flat_map(lambda window: window.batch(window_size + 1))\n",
    "    dataset = dataset.shuffle(shuffle_buffer).map(lambda window: (window[:-1], window[-1]))\n",
    "    dataset = dataset.batch(batch_size).prefetch(1)\n",
    "    return dataset"
   ]
  },
  {
   "cell_type": "code",
   "execution_count": 8,
   "metadata": {},
   "outputs": [],
   "source": [
    "tf.keras.backend.clear_session()\n",
    "tf.random.set_seed(51)\n",
    "np.random.seed(51)\n",
    "\n",
    "tf.keras.backend.clear_session()\n",
    "dataset = windowed_dataset(x_train, window_size, batch_size, shuffle_buffer_size)\n",
    "\n",
    "model = tf.keras.models.Sequential([\n",
    "  tf.keras.layers.Lambda(lambda x: tf.expand_dims(x, axis=-1),\n",
    "                      input_shape=[None]),\n",
    "    tf.keras.layers.Bidirectional(tf.keras.layers.LSTM(32, return_sequences=True)),\n",
    "  tf.keras.layers.Bidirectional(tf.keras.layers.LSTM(32)),\n",
    "  tf.keras.layers.Dense(1),\n",
    "  tf.keras.layers.Lambda(lambda x: x * 100.0)\n",
    "])"
   ]
  },
  {
   "cell_type": "code",
   "execution_count": 9,
   "metadata": {},
   "outputs": [],
   "source": [
    "lr_schedule = tf.keras.callbacks.LearningRateScheduler(\n",
    "    lambda epoch: 1e-8 * 10**(epoch / 20))\n",
    "optimizer = tf.keras.optimizers.SGD(lr=1e-8, momentum=0.9)\n",
    "model.compile(loss=tf.keras.losses.Huber(),\n",
    "              optimizer=optimizer,\n",
    "              metrics=[\"mae\"])"
   ]
  },
  {
   "cell_type": "code",
   "execution_count": 10,
   "metadata": {},
   "outputs": [
    {
     "name": "stdout",
     "output_type": "stream",
     "text": [
      "Epoch 1/100\n",
      "31/31 [==============================] - 1s 45ms/step - loss: 21.5167 - mae: 22.0115 - lr: 1.0000e-08\n",
      "Epoch 2/100\n",
      "31/31 [==============================] - 1s 38ms/step - loss: 21.1522 - mae: 21.6444 - lr: 1.1220e-08\n",
      "Epoch 3/100\n",
      "31/31 [==============================] - 1s 37ms/step - loss: 20.7302 - mae: 21.2236 - lr: 1.2589e-08\n",
      "Epoch 4/100\n",
      "31/31 [==============================] - 1s 37ms/step - loss: 20.2834 - mae: 20.7757 - lr: 1.4125e-08\n",
      "Epoch 5/100\n",
      "31/31 [==============================] - 1s 36ms/step - loss: 19.7897 - mae: 20.2855 - lr: 1.5849e-08\n",
      "Epoch 6/100\n",
      "31/31 [==============================] - 1s 38ms/step - loss: 19.1782 - mae: 19.6696 - lr: 1.7783e-08\n",
      "Epoch 7/100\n",
      "31/31 [==============================] - 1s 38ms/step - loss: 18.2410 - mae: 18.7333 - lr: 1.9953e-08\n",
      "Epoch 8/100\n",
      "31/31 [==============================] - 1s 37ms/step - loss: 17.4825 - mae: 17.9748 - lr: 2.2387e-08\n",
      "Epoch 9/100\n",
      "31/31 [==============================] - 1s 40ms/step - loss: 17.1597 - mae: 17.6529 - lr: 2.5119e-08\n",
      "Epoch 10/100\n",
      "31/31 [==============================] - 1s 39ms/step - loss: 16.8547 - mae: 17.3463 - lr: 2.8184e-08\n",
      "Epoch 11/100\n",
      "31/31 [==============================] - 1s 39ms/step - loss: 16.5533 - mae: 17.0471 - lr: 3.1623e-08\n",
      "Epoch 12/100\n",
      "31/31 [==============================] - 1s 38ms/step - loss: 16.2565 - mae: 16.7524 - lr: 3.5481e-08\n",
      "Epoch 13/100\n",
      "31/31 [==============================] - 1s 37ms/step - loss: 15.9629 - mae: 16.4598 - lr: 3.9811e-08\n",
      "Epoch 14/100\n",
      "31/31 [==============================] - 1s 38ms/step - loss: 15.6593 - mae: 16.1548 - lr: 4.4668e-08\n",
      "Epoch 15/100\n",
      "31/31 [==============================] - 1s 34ms/step - loss: 15.3713 - mae: 15.8652 - lr: 5.0119e-08\n",
      "Epoch 16/100\n",
      "31/31 [==============================] - 1s 35ms/step - loss: 15.0752 - mae: 15.5697 - lr: 5.6234e-08\n",
      "Epoch 17/100\n",
      "31/31 [==============================] - 1s 34ms/step - loss: 14.7905 - mae: 15.2869 - lr: 6.3096e-08\n",
      "Epoch 18/100\n",
      "31/31 [==============================] - 1s 34ms/step - loss: 14.5229 - mae: 15.0178 - lr: 7.0795e-08\n",
      "Epoch 19/100\n",
      "31/31 [==============================] - 1s 37ms/step - loss: 14.2707 - mae: 14.7636 - lr: 7.9433e-08\n",
      "Epoch 20/100\n",
      "31/31 [==============================] - 1s 35ms/step - loss: 14.0293 - mae: 14.5217 - lr: 8.9125e-08\n",
      "Epoch 21/100\n",
      "31/31 [==============================] - 1s 37ms/step - loss: 13.8191 - mae: 14.3135 - lr: 1.0000e-07\n",
      "Epoch 22/100\n",
      "31/31 [==============================] - 1s 39ms/step - loss: 13.6084 - mae: 14.1032 - lr: 1.1220e-07\n",
      "Epoch 23/100\n",
      "31/31 [==============================] - 1s 39ms/step - loss: 13.4096 - mae: 13.9038 - lr: 1.2589e-07\n",
      "Epoch 24/100\n",
      "31/31 [==============================] - 1s 40ms/step - loss: 13.1859 - mae: 13.6794 - lr: 1.4125e-07\n",
      "Epoch 25/100\n",
      "31/31 [==============================] - 1s 36ms/step - loss: 12.9819 - mae: 13.4747 - lr: 1.5849e-07\n",
      "Epoch 26/100\n",
      "31/31 [==============================] - 1s 38ms/step - loss: 12.7278 - mae: 13.2184 - lr: 1.7783e-07\n",
      "Epoch 27/100\n",
      "31/31 [==============================] - 1s 44ms/step - loss: 12.4886 - mae: 12.9799 - lr: 1.9953e-07\n",
      "Epoch 28/100\n",
      "31/31 [==============================] - 1s 36ms/step - loss: 12.3459 - mae: 12.8362 - lr: 2.2387e-07\n",
      "Epoch 29/100\n",
      "31/31 [==============================] - 1s 36ms/step - loss: 11.9127 - mae: 12.4017 - lr: 2.5119e-07\n",
      "Epoch 30/100\n",
      "31/31 [==============================] - 1s 35ms/step - loss: 11.5934 - mae: 12.0835 - lr: 2.8184e-07\n",
      "Epoch 31/100\n",
      "31/31 [==============================] - 1s 37ms/step - loss: 11.2859 - mae: 11.7771 - lr: 3.1623e-07\n",
      "Epoch 32/100\n",
      "31/31 [==============================] - 1s 42ms/step - loss: 11.3520 - mae: 11.8418 - lr: 3.5481e-07\n",
      "Epoch 33/100\n",
      "31/31 [==============================] - 1s 43ms/step - loss: 10.5232 - mae: 11.0140 - lr: 3.9811e-07\n",
      "Epoch 34/100\n",
      "31/31 [==============================] - 1s 43ms/step - loss: 10.5453 - mae: 11.0331 - lr: 4.4668e-07\n",
      "Epoch 35/100\n",
      "31/31 [==============================] - 1s 45ms/step - loss: 10.0772 - mae: 10.5622 - lr: 5.0119e-07\n",
      "Epoch 36/100\n",
      "31/31 [==============================] - 1s 47ms/step - loss: 9.5217 - mae: 10.0104 - lr: 5.6234e-07\n",
      "Epoch 37/100\n",
      "31/31 [==============================] - 2s 49ms/step - loss: 10.0236 - mae: 10.5132 - lr: 6.3096e-07\n",
      "Epoch 38/100\n",
      "31/31 [==============================] - 2s 54ms/step - loss: 9.8575 - mae: 10.3452 - lr: 7.0795e-07\n",
      "Epoch 39/100\n",
      "31/31 [==============================] - 2s 54ms/step - loss: 9.2702 - mae: 9.7532 - lr: 7.9433e-07\n",
      "Epoch 40/100\n",
      "31/31 [==============================] - 2s 62ms/step - loss: 8.7736 - mae: 9.2597 - lr: 8.9125e-07\n",
      "Epoch 41/100\n",
      "31/31 [==============================] - 2s 54ms/step - loss: 8.3232 - mae: 8.8082 - lr: 1.0000e-06\n",
      "Epoch 42/100\n",
      "31/31 [==============================] - 2s 53ms/step - loss: 7.9573 - mae: 8.4413 - lr: 1.1220e-06\n",
      "Epoch 43/100\n",
      "31/31 [==============================] - 2s 55ms/step - loss: 7.6373 - mae: 8.1207 - lr: 1.2589e-06\n",
      "Epoch 44/100\n",
      "31/31 [==============================] - 2s 51ms/step - loss: 7.3900 - mae: 7.8753 - lr: 1.4125e-06\n",
      "Epoch 45/100\n",
      "31/31 [==============================] - 2s 51ms/step - loss: 7.2115 - mae: 7.6956 - lr: 1.5849e-06\n",
      "Epoch 46/100\n",
      "31/31 [==============================] - 2s 53ms/step - loss: 6.9481 - mae: 7.4320 - lr: 1.7783e-06\n",
      "Epoch 47/100\n",
      "31/31 [==============================] - 2s 50ms/step - loss: 6.7149 - mae: 7.1992 - lr: 1.9953e-06\n",
      "Epoch 48/100\n",
      "31/31 [==============================] - 2s 51ms/step - loss: 6.6007 - mae: 7.0827 - lr: 2.2387e-06\n",
      "Epoch 49/100\n",
      "31/31 [==============================] - 2s 53ms/step - loss: 6.2287 - mae: 6.7057 - lr: 2.5119e-06\n",
      "Epoch 50/100\n",
      "31/31 [==============================] - 2s 51ms/step - loss: 6.0534 - mae: 6.5310 - lr: 2.8184e-06\n",
      "Epoch 51/100\n",
      "31/31 [==============================] - 2s 49ms/step - loss: 5.9235 - mae: 6.4023 - lr: 3.1623e-06\n",
      "Epoch 52/100\n",
      "31/31 [==============================] - 2s 53ms/step - loss: 5.7896 - mae: 6.2715 - lr: 3.5481e-06\n",
      "Epoch 53/100\n",
      "31/31 [==============================] - 2s 52ms/step - loss: 5.6420 - mae: 6.1223 - lr: 3.9811e-06\n",
      "Epoch 54/100\n",
      "31/31 [==============================] - 1s 45ms/step - loss: 5.5321 - mae: 6.0074 - lr: 4.4668e-06\n",
      "Epoch 55/100\n",
      "31/31 [==============================] - 1s 44ms/step - loss: 5.4087 - mae: 5.8800 - lr: 5.0119e-06\n",
      "Epoch 56/100\n",
      "31/31 [==============================] - 1s 41ms/step - loss: 5.5650 - mae: 6.0363 - lr: 5.6234e-06\n",
      "Epoch 57/100\n",
      "31/31 [==============================] - 1s 41ms/step - loss: 5.3023 - mae: 5.7803 - lr: 6.3096e-06\n",
      "Epoch 58/100\n",
      "31/31 [==============================] - 1s 44ms/step - loss: 5.3015 - mae: 5.7838 - lr: 7.0795e-06\n",
      "Epoch 59/100\n",
      "31/31 [==============================] - 1s 41ms/step - loss: 5.1555 - mae: 5.6345 - lr: 7.9433e-06\n",
      "Epoch 60/100\n",
      "31/31 [==============================] - 1s 43ms/step - loss: 5.0536 - mae: 5.5257 - lr: 8.9125e-06\n",
      "Epoch 61/100\n",
      "31/31 [==============================] - 1s 43ms/step - loss: 5.3164 - mae: 5.7928 - lr: 1.0000e-05\n",
      "Epoch 62/100\n",
      "31/31 [==============================] - 1s 41ms/step - loss: 5.2048 - mae: 5.6831 - lr: 1.1220e-05\n",
      "Epoch 63/100\n",
      "31/31 [==============================] - 1s 41ms/step - loss: 5.1056 - mae: 5.5815 - lr: 1.2589e-05\n",
      "Epoch 64/100\n",
      "31/31 [==============================] - 1s 41ms/step - loss: 4.8402 - mae: 5.3127 - lr: 1.4125e-05\n",
      "Epoch 65/100\n",
      "31/31 [==============================] - 1s 39ms/step - loss: 5.1488 - mae: 5.6312 - lr: 1.5849e-05\n",
      "Epoch 66/100\n",
      "31/31 [==============================] - 1s 40ms/step - loss: 5.3902 - mae: 5.8737 - lr: 1.7783e-05\n",
      "Epoch 67/100\n",
      "31/31 [==============================] - 1s 36ms/step - loss: 6.0329 - mae: 6.5125 - lr: 1.9953e-05\n",
      "Epoch 68/100\n",
      "31/31 [==============================] - 1s 37ms/step - loss: 5.2234 - mae: 5.7061 - lr: 2.2387e-05\n",
      "Epoch 69/100\n",
      "31/31 [==============================] - 1s 35ms/step - loss: 5.6412 - mae: 6.1229 - lr: 2.5119e-05\n",
      "Epoch 70/100\n",
      "31/31 [==============================] - 1s 37ms/step - loss: 5.2551 - mae: 5.7367 - lr: 2.8184e-05\n",
      "Epoch 71/100\n",
      "31/31 [==============================] - 1s 35ms/step - loss: 5.6642 - mae: 6.1460 - lr: 3.1623e-05\n",
      "Epoch 72/100\n",
      "31/31 [==============================] - 1s 38ms/step - loss: 5.4174 - mae: 5.8943 - lr: 3.5481e-05\n"
     ]
    },
    {
     "name": "stdout",
     "output_type": "stream",
     "text": [
      "Epoch 73/100\n",
      "31/31 [==============================] - 1s 35ms/step - loss: 6.8020 - mae: 7.2896 - lr: 3.9811e-05\n",
      "Epoch 74/100\n",
      "31/31 [==============================] - 1s 37ms/step - loss: 5.2648 - mae: 5.7440 - lr: 4.4668e-05\n",
      "Epoch 75/100\n",
      "31/31 [==============================] - 1s 34ms/step - loss: 5.3521 - mae: 5.8339 - lr: 5.0119e-05\n",
      "Epoch 76/100\n",
      "31/31 [==============================] - 1s 32ms/step - loss: 5.2939 - mae: 5.7731 - lr: 5.6234e-05\n",
      "Epoch 77/100\n",
      "31/31 [==============================] - 1s 34ms/step - loss: 7.3981 - mae: 7.8834 - lr: 6.3096e-05\n",
      "Epoch 78/100\n",
      "31/31 [==============================] - 1s 35ms/step - loss: 5.8288 - mae: 6.3076 - lr: 7.0795e-05\n",
      "Epoch 79/100\n",
      "31/31 [==============================] - 1s 29ms/step - loss: 5.7777 - mae: 6.2622 - lr: 7.9433e-05\n",
      "Epoch 80/100\n",
      "31/31 [==============================] - 1s 30ms/step - loss: 6.3429 - mae: 6.8241 - lr: 8.9125e-05\n",
      "Epoch 81/100\n",
      "31/31 [==============================] - 1s 31ms/step - loss: 6.7468 - mae: 7.2365 - lr: 1.0000e-04\n",
      "Epoch 82/100\n",
      "31/31 [==============================] - 1s 30ms/step - loss: 5.8571 - mae: 6.3401 - lr: 1.1220e-04\n",
      "Epoch 83/100\n",
      "31/31 [==============================] - 1s 33ms/step - loss: 5.9993 - mae: 6.4815 - lr: 1.2589e-04\n",
      "Epoch 84/100\n",
      "31/31 [==============================] - 1s 31ms/step - loss: 7.6076 - mae: 8.0923 - lr: 1.4125e-04\n",
      "Epoch 85/100\n",
      "31/31 [==============================] - 1s 33ms/step - loss: 5.4274 - mae: 5.9104 - lr: 1.5849e-04\n",
      "Epoch 86/100\n",
      "31/31 [==============================] - 1s 33ms/step - loss: 6.4757 - mae: 6.9602 - lr: 1.7783e-04\n",
      "Epoch 87/100\n",
      "31/31 [==============================] - 1s 33ms/step - loss: 6.9239 - mae: 7.4063 - lr: 1.9953e-04\n",
      "Epoch 88/100\n",
      "31/31 [==============================] - 1s 35ms/step - loss: 9.0515 - mae: 9.5412 - lr: 2.2387e-04\n",
      "Epoch 89/100\n",
      "31/31 [==============================] - 1s 35ms/step - loss: 8.2747 - mae: 8.7634 - lr: 2.5119e-04\n",
      "Epoch 90/100\n",
      "31/31 [==============================] - 1s 33ms/step - loss: 7.9352 - mae: 8.4211 - lr: 2.8184e-04\n",
      "Epoch 91/100\n",
      "31/31 [==============================] - 1s 32ms/step - loss: 6.2396 - mae: 6.7200 - lr: 3.1623e-04\n",
      "Epoch 92/100\n",
      "31/31 [==============================] - 1s 30ms/step - loss: 7.1264 - mae: 7.6114 - lr: 3.5481e-04\n",
      "Epoch 93/100\n",
      "31/31 [==============================] - 1s 30ms/step - loss: 7.6846 - mae: 8.1667 - lr: 3.9811e-04\n",
      "Epoch 94/100\n",
      "31/31 [==============================] - 1s 31ms/step - loss: 7.4152 - mae: 7.9028 - lr: 4.4668e-04\n",
      "Epoch 95/100\n",
      "31/31 [==============================] - 1s 32ms/step - loss: 7.0572 - mae: 7.5442 - lr: 5.0119e-04\n",
      "Epoch 96/100\n",
      "31/31 [==============================] - 1s 32ms/step - loss: 9.2790 - mae: 9.7700 - lr: 5.6234e-04\n",
      "Epoch 97/100\n",
      "31/31 [==============================] - 1s 35ms/step - loss: 8.5245 - mae: 9.0138 - lr: 6.3096e-04\n",
      "Epoch 98/100\n",
      "31/31 [==============================] - 1s 33ms/step - loss: 7.5383 - mae: 8.0249 - lr: 7.0795e-04\n",
      "Epoch 99/100\n",
      "31/31 [==============================] - 1s 36ms/step - loss: 10.6914 - mae: 11.1822 - lr: 7.9433e-04\n",
      "Epoch 100/100\n",
      "31/31 [==============================] - 1s 36ms/step - loss: 16.6864 - mae: 17.1778 - lr: 8.9125e-04\n"
     ]
    }
   ],
   "source": [
    "history = model.fit(dataset, epochs=100, callbacks=[lr_schedule])"
   ]
  },
  {
   "cell_type": "code",
   "execution_count": 11,
   "metadata": {},
   "outputs": [
    {
     "data": {
      "text/plain": [
       "(1e-08, 0.0001, 0.0, 30.0)"
      ]
     },
     "execution_count": 11,
     "metadata": {},
     "output_type": "execute_result"
    },
    {
     "data": {
      "image/png": "[encoded data removed]",
      "text/plain": [
       "<Figure size 432x288 with 1 Axes>"
      ]
     },
     "metadata": {
      "needs_background": "light"
     },
     "output_type": "display_data"
    }
   ],
   "source": [
    "plt.semilogx(history.history[\"lr\"], history.history[\"loss\"])\n",
    "plt.axis([1e-8, 1e-4, 0, 30])"
   ]
  },
  {
   "cell_type": "code",
   "execution_count": 15,
   "metadata": {},
   "outputs": [],
   "source": [
    "tf.keras.backend.clear_session()\n",
    "tf.random.set_seed(51)\n",
    "np.random.seed(51)\n",
    "\n",
    "tf.keras.backend.clear_session()\n",
    "dataset = windowed_dataset(x_train, window_size, batch_size, shuffle_buffer_size)\n",
    "\n",
    "model = tf.keras.models.Sequential([\n",
    "  tf.keras.layers.Lambda(lambda x: tf.expand_dims(x, axis=-1),\n",
    "                      input_shape=[None]),\n",
    "   tf.keras.layers.Bidirectional(tf.keras.layers.LSTM(32, return_sequences=True)),\n",
    "  tf.keras.layers.Bidirectional(tf.keras.layers.LSTM(32)),\n",
    "  tf.keras.layers.Dense(1),\n",
    "  tf.keras.layers.Lambda(lambda x: x * 100.0)\n",
    "])"
   ]
  },
  {
   "cell_type": "code",
   "execution_count": 16,
   "metadata": {},
   "outputs": [],
   "source": [
    "model.compile(loss=\"mse\", optimizer=tf.keras.optimizers.SGD(lr=1e-5, momentum=0.9),metrics=[\"mae\"])"
   ]
  },
  {
   "cell_type": "code",
   "execution_count": 17,
   "metadata": {},
   "outputs": [],
   "source": [
    "history = model.fit(dataset,epochs=500,verbose=0)"
   ]
  },
  {
   "cell_type": "code",
   "execution_count": null,
   "metadata": {},
   "outputs": [],
   "source": []
  }
 ],
 "metadata": {
  "kernelspec": {
   "display_name": "Python 3.7.5 64-bit",
   "language": "python",
   "name": "python37564bit47ed710654564d6e9666ea18624a44ba"
  },
  "language_info": {
   "codemirror_mode": {
    "name": "ipython",
    "version": 3
   },
   "file_extension": ".py",
   "mimetype": "text/x-python",
   "name": "python",
   "nbconvert_exporter": "python",
   "pygments_lexer": "ipython3",
   "version": "3.7.7"
  }
 },
 "nbformat": 4,
 "nbformat_minor": 4
}
